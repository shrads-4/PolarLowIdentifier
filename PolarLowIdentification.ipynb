{
  "nbformat": 4,
  "nbformat_minor": 0,
  "metadata": {
    "colab": {
      "provenance": []
    },
    "kernelspec": {
      "name": "python3",
      "display_name": "Python 3"
    },
    "language_info": {
      "name": "python"
    },
    "accelerator": "GPU",
    "gpuClass": "standard",
    "widgets": {
      "application/vnd.jupyter.widget-state+json": {
        "9784aeacb96f462ea2f70f5b5986a505": {
          "model_module": "@jupyter-widgets/controls",
          "model_name": "HBoxModel",
          "model_module_version": "1.5.0",
          "state": {
            "_dom_classes": [],
            "_model_module": "@jupyter-widgets/controls",
            "_model_module_version": "1.5.0",
            "_model_name": "HBoxModel",
            "_view_count": null,
            "_view_module": "@jupyter-widgets/controls",
            "_view_module_version": "1.5.0",
            "_view_name": "HBoxView",
            "box_style": "",
            "children": [
              "IPY_MODEL_66607e521dfb4ff08626d66a2ec42ae7",
              "IPY_MODEL_1b8aa1554be749ac8e6b5f00f3571719",
              "IPY_MODEL_36b1d3bd44c04bc8a46b762a934b3fa2"
            ],
            "layout": "IPY_MODEL_c79f8eeb991b4f708712d8dae0af2fbc"
          }
        },
        "66607e521dfb4ff08626d66a2ec42ae7": {
          "model_module": "@jupyter-widgets/controls",
          "model_name": "HTMLModel",
          "model_module_version": "1.5.0",
          "state": {
            "_dom_classes": [],
            "_model_module": "@jupyter-widgets/controls",
            "_model_module_version": "1.5.0",
            "_model_name": "HTMLModel",
            "_view_count": null,
            "_view_module": "@jupyter-widgets/controls",
            "_view_module_version": "1.5.0",
            "_view_name": "HTMLView",
            "description": "",
            "description_tooltip": null,
            "layout": "IPY_MODEL_dd0edb48ec1d440986e50df6c915d554",
            "placeholder": "​",
            "style": "IPY_MODEL_4c7ba534116a48459d64439ae84391d3",
            "value": "100%"
          }
        },
        "1b8aa1554be749ac8e6b5f00f3571719": {
          "model_module": "@jupyter-widgets/controls",
          "model_name": "FloatProgressModel",
          "model_module_version": "1.5.0",
          "state": {
            "_dom_classes": [],
            "_model_module": "@jupyter-widgets/controls",
            "_model_module_version": "1.5.0",
            "_model_name": "FloatProgressModel",
            "_view_count": null,
            "_view_module": "@jupyter-widgets/controls",
            "_view_module_version": "1.5.0",
            "_view_name": "ProgressView",
            "bar_style": "success",
            "description": "",
            "description_tooltip": null,
            "layout": "IPY_MODEL_3e93c67b67334677b4463f62b740a1a2",
            "max": 9,
            "min": 0,
            "orientation": "horizontal",
            "style": "IPY_MODEL_abc713299f0a4bfa8091ac9bf8add5b7",
            "value": 9
          }
        },
        "36b1d3bd44c04bc8a46b762a934b3fa2": {
          "model_module": "@jupyter-widgets/controls",
          "model_name": "HTMLModel",
          "model_module_version": "1.5.0",
          "state": {
            "_dom_classes": [],
            "_model_module": "@jupyter-widgets/controls",
            "_model_module_version": "1.5.0",
            "_model_name": "HTMLModel",
            "_view_count": null,
            "_view_module": "@jupyter-widgets/controls",
            "_view_module_version": "1.5.0",
            "_view_name": "HTMLView",
            "description": "",
            "description_tooltip": null,
            "layout": "IPY_MODEL_9be7359c1d3d4cd1b8d69a4cede595f4",
            "placeholder": "​",
            "style": "IPY_MODEL_63c682d81e6941fcb42289eb148a67eb",
            "value": " 9/9 [04:06&lt;00:00, 27.12s/it]"
          }
        },
        "c79f8eeb991b4f708712d8dae0af2fbc": {
          "model_module": "@jupyter-widgets/base",
          "model_name": "LayoutModel",
          "model_module_version": "1.2.0",
          "state": {
            "_model_module": "@jupyter-widgets/base",
            "_model_module_version": "1.2.0",
            "_model_name": "LayoutModel",
            "_view_count": null,
            "_view_module": "@jupyter-widgets/base",
            "_view_module_version": "1.2.0",
            "_view_name": "LayoutView",
            "align_content": null,
            "align_items": null,
            "align_self": null,
            "border": null,
            "bottom": null,
            "display": null,
            "flex": null,
            "flex_flow": null,
            "grid_area": null,
            "grid_auto_columns": null,
            "grid_auto_flow": null,
            "grid_auto_rows": null,
            "grid_column": null,
            "grid_gap": null,
            "grid_row": null,
            "grid_template_areas": null,
            "grid_template_columns": null,
            "grid_template_rows": null,
            "height": null,
            "justify_content": null,
            "justify_items": null,
            "left": null,
            "margin": null,
            "max_height": null,
            "max_width": null,
            "min_height": null,
            "min_width": null,
            "object_fit": null,
            "object_position": null,
            "order": null,
            "overflow": null,
            "overflow_x": null,
            "overflow_y": null,
            "padding": null,
            "right": null,
            "top": null,
            "visibility": null,
            "width": null
          }
        },
        "dd0edb48ec1d440986e50df6c915d554": {
          "model_module": "@jupyter-widgets/base",
          "model_name": "LayoutModel",
          "model_module_version": "1.2.0",
          "state": {
            "_model_module": "@jupyter-widgets/base",
            "_model_module_version": "1.2.0",
            "_model_name": "LayoutModel",
            "_view_count": null,
            "_view_module": "@jupyter-widgets/base",
            "_view_module_version": "1.2.0",
            "_view_name": "LayoutView",
            "align_content": null,
            "align_items": null,
            "align_self": null,
            "border": null,
            "bottom": null,
            "display": null,
            "flex": null,
            "flex_flow": null,
            "grid_area": null,
            "grid_auto_columns": null,
            "grid_auto_flow": null,
            "grid_auto_rows": null,
            "grid_column": null,
            "grid_gap": null,
            "grid_row": null,
            "grid_template_areas": null,
            "grid_template_columns": null,
            "grid_template_rows": null,
            "height": null,
            "justify_content": null,
            "justify_items": null,
            "left": null,
            "margin": null,
            "max_height": null,
            "max_width": null,
            "min_height": null,
            "min_width": null,
            "object_fit": null,
            "object_position": null,
            "order": null,
            "overflow": null,
            "overflow_x": null,
            "overflow_y": null,
            "padding": null,
            "right": null,
            "top": null,
            "visibility": null,
            "width": null
          }
        },
        "4c7ba534116a48459d64439ae84391d3": {
          "model_module": "@jupyter-widgets/controls",
          "model_name": "DescriptionStyleModel",
          "model_module_version": "1.5.0",
          "state": {
            "_model_module": "@jupyter-widgets/controls",
            "_model_module_version": "1.5.0",
            "_model_name": "DescriptionStyleModel",
            "_view_count": null,
            "_view_module": "@jupyter-widgets/base",
            "_view_module_version": "1.2.0",
            "_view_name": "StyleView",
            "description_width": ""
          }
        },
        "3e93c67b67334677b4463f62b740a1a2": {
          "model_module": "@jupyter-widgets/base",
          "model_name": "LayoutModel",
          "model_module_version": "1.2.0",
          "state": {
            "_model_module": "@jupyter-widgets/base",
            "_model_module_version": "1.2.0",
            "_model_name": "LayoutModel",
            "_view_count": null,
            "_view_module": "@jupyter-widgets/base",
            "_view_module_version": "1.2.0",
            "_view_name": "LayoutView",
            "align_content": null,
            "align_items": null,
            "align_self": null,
            "border": null,
            "bottom": null,
            "display": null,
            "flex": null,
            "flex_flow": null,
            "grid_area": null,
            "grid_auto_columns": null,
            "grid_auto_flow": null,
            "grid_auto_rows": null,
            "grid_column": null,
            "grid_gap": null,
            "grid_row": null,
            "grid_template_areas": null,
            "grid_template_columns": null,
            "grid_template_rows": null,
            "height": null,
            "justify_content": null,
            "justify_items": null,
            "left": null,
            "margin": null,
            "max_height": null,
            "max_width": null,
            "min_height": null,
            "min_width": null,
            "object_fit": null,
            "object_position": null,
            "order": null,
            "overflow": null,
            "overflow_x": null,
            "overflow_y": null,
            "padding": null,
            "right": null,
            "top": null,
            "visibility": null,
            "width": null
          }
        },
        "abc713299f0a4bfa8091ac9bf8add5b7": {
          "model_module": "@jupyter-widgets/controls",
          "model_name": "ProgressStyleModel",
          "model_module_version": "1.5.0",
          "state": {
            "_model_module": "@jupyter-widgets/controls",
            "_model_module_version": "1.5.0",
            "_model_name": "ProgressStyleModel",
            "_view_count": null,
            "_view_module": "@jupyter-widgets/base",
            "_view_module_version": "1.2.0",
            "_view_name": "StyleView",
            "bar_color": null,
            "description_width": ""
          }
        },
        "9be7359c1d3d4cd1b8d69a4cede595f4": {
          "model_module": "@jupyter-widgets/base",
          "model_name": "LayoutModel",
          "model_module_version": "1.2.0",
          "state": {
            "_model_module": "@jupyter-widgets/base",
            "_model_module_version": "1.2.0",
            "_model_name": "LayoutModel",
            "_view_count": null,
            "_view_module": "@jupyter-widgets/base",
            "_view_module_version": "1.2.0",
            "_view_name": "LayoutView",
            "align_content": null,
            "align_items": null,
            "align_self": null,
            "border": null,
            "bottom": null,
            "display": null,
            "flex": null,
            "flex_flow": null,
            "grid_area": null,
            "grid_auto_columns": null,
            "grid_auto_flow": null,
            "grid_auto_rows": null,
            "grid_column": null,
            "grid_gap": null,
            "grid_row": null,
            "grid_template_areas": null,
            "grid_template_columns": null,
            "grid_template_rows": null,
            "height": null,
            "justify_content": null,
            "justify_items": null,
            "left": null,
            "margin": null,
            "max_height": null,
            "max_width": null,
            "min_height": null,
            "min_width": null,
            "object_fit": null,
            "object_position": null,
            "order": null,
            "overflow": null,
            "overflow_x": null,
            "overflow_y": null,
            "padding": null,
            "right": null,
            "top": null,
            "visibility": null,
            "width": null
          }
        },
        "63c682d81e6941fcb42289eb148a67eb": {
          "model_module": "@jupyter-widgets/controls",
          "model_name": "DescriptionStyleModel",
          "model_module_version": "1.5.0",
          "state": {
            "_model_module": "@jupyter-widgets/controls",
            "_model_module_version": "1.5.0",
            "_model_name": "DescriptionStyleModel",
            "_view_count": null,
            "_view_module": "@jupyter-widgets/base",
            "_view_module_version": "1.2.0",
            "_view_name": "StyleView",
            "description_width": ""
          }
        },
        "f60d485582094ae0a0576ed748e2e8f9": {
          "model_module": "@jupyter-widgets/controls",
          "model_name": "HBoxModel",
          "model_module_version": "1.5.0",
          "state": {
            "_dom_classes": [],
            "_model_module": "@jupyter-widgets/controls",
            "_model_module_version": "1.5.0",
            "_model_name": "HBoxModel",
            "_view_count": null,
            "_view_module": "@jupyter-widgets/controls",
            "_view_module_version": "1.5.0",
            "_view_name": "HBoxView",
            "box_style": "",
            "children": [
              "IPY_MODEL_b5bb0882e81f46b4a09f3ee309b4a816",
              "IPY_MODEL_a7c65c2a9f3d4160b1e910ce7e245b59",
              "IPY_MODEL_8a3a1b9d840043c9a8be2688b37045d2"
            ],
            "layout": "IPY_MODEL_aa3bdb1c14f14359b5c13286c6261d42"
          }
        },
        "b5bb0882e81f46b4a09f3ee309b4a816": {
          "model_module": "@jupyter-widgets/controls",
          "model_name": "HTMLModel",
          "model_module_version": "1.5.0",
          "state": {
            "_dom_classes": [],
            "_model_module": "@jupyter-widgets/controls",
            "_model_module_version": "1.5.0",
            "_model_name": "HTMLModel",
            "_view_count": null,
            "_view_module": "@jupyter-widgets/controls",
            "_view_module_version": "1.5.0",
            "_view_name": "HTMLView",
            "description": "",
            "description_tooltip": null,
            "layout": "IPY_MODEL_479c70accda343afa6fbdf0e80a0c93b",
            "placeholder": "​",
            "style": "IPY_MODEL_3efb9b120520483d8cf8306a8de45d19",
            "value": "100%"
          }
        },
        "a7c65c2a9f3d4160b1e910ce7e245b59": {
          "model_module": "@jupyter-widgets/controls",
          "model_name": "FloatProgressModel",
          "model_module_version": "1.5.0",
          "state": {
            "_dom_classes": [],
            "_model_module": "@jupyter-widgets/controls",
            "_model_module_version": "1.5.0",
            "_model_name": "FloatProgressModel",
            "_view_count": null,
            "_view_module": "@jupyter-widgets/controls",
            "_view_module_version": "1.5.0",
            "_view_name": "ProgressView",
            "bar_style": "success",
            "description": "",
            "description_tooltip": null,
            "layout": "IPY_MODEL_6a0539c3574f40479ed7ee7ba979e7b8",
            "max": 5,
            "min": 0,
            "orientation": "horizontal",
            "style": "IPY_MODEL_1f59f5817b6946c3b8e690f2118ec6b1",
            "value": 5
          }
        },
        "8a3a1b9d840043c9a8be2688b37045d2": {
          "model_module": "@jupyter-widgets/controls",
          "model_name": "HTMLModel",
          "model_module_version": "1.5.0",
          "state": {
            "_dom_classes": [],
            "_model_module": "@jupyter-widgets/controls",
            "_model_module_version": "1.5.0",
            "_model_name": "HTMLModel",
            "_view_count": null,
            "_view_module": "@jupyter-widgets/controls",
            "_view_module_version": "1.5.0",
            "_view_name": "HTMLView",
            "description": "",
            "description_tooltip": null,
            "layout": "IPY_MODEL_a81afe6e609b4c41bae33c92a86d77e3",
            "placeholder": "​",
            "style": "IPY_MODEL_2c05d8345a1042b8918733bd9b7ec146",
            "value": " 5/5 [00:09&lt;00:00,  1.71s/it]"
          }
        },
        "aa3bdb1c14f14359b5c13286c6261d42": {
          "model_module": "@jupyter-widgets/base",
          "model_name": "LayoutModel",
          "model_module_version": "1.2.0",
          "state": {
            "_model_module": "@jupyter-widgets/base",
            "_model_module_version": "1.2.0",
            "_model_name": "LayoutModel",
            "_view_count": null,
            "_view_module": "@jupyter-widgets/base",
            "_view_module_version": "1.2.0",
            "_view_name": "LayoutView",
            "align_content": null,
            "align_items": null,
            "align_self": null,
            "border": null,
            "bottom": null,
            "display": null,
            "flex": null,
            "flex_flow": null,
            "grid_area": null,
            "grid_auto_columns": null,
            "grid_auto_flow": null,
            "grid_auto_rows": null,
            "grid_column": null,
            "grid_gap": null,
            "grid_row": null,
            "grid_template_areas": null,
            "grid_template_columns": null,
            "grid_template_rows": null,
            "height": null,
            "justify_content": null,
            "justify_items": null,
            "left": null,
            "margin": null,
            "max_height": null,
            "max_width": null,
            "min_height": null,
            "min_width": null,
            "object_fit": null,
            "object_position": null,
            "order": null,
            "overflow": null,
            "overflow_x": null,
            "overflow_y": null,
            "padding": null,
            "right": null,
            "top": null,
            "visibility": null,
            "width": null
          }
        },
        "479c70accda343afa6fbdf0e80a0c93b": {
          "model_module": "@jupyter-widgets/base",
          "model_name": "LayoutModel",
          "model_module_version": "1.2.0",
          "state": {
            "_model_module": "@jupyter-widgets/base",
            "_model_module_version": "1.2.0",
            "_model_name": "LayoutModel",
            "_view_count": null,
            "_view_module": "@jupyter-widgets/base",
            "_view_module_version": "1.2.0",
            "_view_name": "LayoutView",
            "align_content": null,
            "align_items": null,
            "align_self": null,
            "border": null,
            "bottom": null,
            "display": null,
            "flex": null,
            "flex_flow": null,
            "grid_area": null,
            "grid_auto_columns": null,
            "grid_auto_flow": null,
            "grid_auto_rows": null,
            "grid_column": null,
            "grid_gap": null,
            "grid_row": null,
            "grid_template_areas": null,
            "grid_template_columns": null,
            "grid_template_rows": null,
            "height": null,
            "justify_content": null,
            "justify_items": null,
            "left": null,
            "margin": null,
            "max_height": null,
            "max_width": null,
            "min_height": null,
            "min_width": null,
            "object_fit": null,
            "object_position": null,
            "order": null,
            "overflow": null,
            "overflow_x": null,
            "overflow_y": null,
            "padding": null,
            "right": null,
            "top": null,
            "visibility": null,
            "width": null
          }
        },
        "3efb9b120520483d8cf8306a8de45d19": {
          "model_module": "@jupyter-widgets/controls",
          "model_name": "DescriptionStyleModel",
          "model_module_version": "1.5.0",
          "state": {
            "_model_module": "@jupyter-widgets/controls",
            "_model_module_version": "1.5.0",
            "_model_name": "DescriptionStyleModel",
            "_view_count": null,
            "_view_module": "@jupyter-widgets/base",
            "_view_module_version": "1.2.0",
            "_view_name": "StyleView",
            "description_width": ""
          }
        },
        "6a0539c3574f40479ed7ee7ba979e7b8": {
          "model_module": "@jupyter-widgets/base",
          "model_name": "LayoutModel",
          "model_module_version": "1.2.0",
          "state": {
            "_model_module": "@jupyter-widgets/base",
            "_model_module_version": "1.2.0",
            "_model_name": "LayoutModel",
            "_view_count": null,
            "_view_module": "@jupyter-widgets/base",
            "_view_module_version": "1.2.0",
            "_view_name": "LayoutView",
            "align_content": null,
            "align_items": null,
            "align_self": null,
            "border": null,
            "bottom": null,
            "display": null,
            "flex": null,
            "flex_flow": null,
            "grid_area": null,
            "grid_auto_columns": null,
            "grid_auto_flow": null,
            "grid_auto_rows": null,
            "grid_column": null,
            "grid_gap": null,
            "grid_row": null,
            "grid_template_areas": null,
            "grid_template_columns": null,
            "grid_template_rows": null,
            "height": null,
            "justify_content": null,
            "justify_items": null,
            "left": null,
            "margin": null,
            "max_height": null,
            "max_width": null,
            "min_height": null,
            "min_width": null,
            "object_fit": null,
            "object_position": null,
            "order": null,
            "overflow": null,
            "overflow_x": null,
            "overflow_y": null,
            "padding": null,
            "right": null,
            "top": null,
            "visibility": null,
            "width": null
          }
        },
        "1f59f5817b6946c3b8e690f2118ec6b1": {
          "model_module": "@jupyter-widgets/controls",
          "model_name": "ProgressStyleModel",
          "model_module_version": "1.5.0",
          "state": {
            "_model_module": "@jupyter-widgets/controls",
            "_model_module_version": "1.5.0",
            "_model_name": "ProgressStyleModel",
            "_view_count": null,
            "_view_module": "@jupyter-widgets/base",
            "_view_module_version": "1.2.0",
            "_view_name": "StyleView",
            "bar_color": null,
            "description_width": ""
          }
        },
        "a81afe6e609b4c41bae33c92a86d77e3": {
          "model_module": "@jupyter-widgets/base",
          "model_name": "LayoutModel",
          "model_module_version": "1.2.0",
          "state": {
            "_model_module": "@jupyter-widgets/base",
            "_model_module_version": "1.2.0",
            "_model_name": "LayoutModel",
            "_view_count": null,
            "_view_module": "@jupyter-widgets/base",
            "_view_module_version": "1.2.0",
            "_view_name": "LayoutView",
            "align_content": null,
            "align_items": null,
            "align_self": null,
            "border": null,
            "bottom": null,
            "display": null,
            "flex": null,
            "flex_flow": null,
            "grid_area": null,
            "grid_auto_columns": null,
            "grid_auto_flow": null,
            "grid_auto_rows": null,
            "grid_column": null,
            "grid_gap": null,
            "grid_row": null,
            "grid_template_areas": null,
            "grid_template_columns": null,
            "grid_template_rows": null,
            "height": null,
            "justify_content": null,
            "justify_items": null,
            "left": null,
            "margin": null,
            "max_height": null,
            "max_width": null,
            "min_height": null,
            "min_width": null,
            "object_fit": null,
            "object_position": null,
            "order": null,
            "overflow": null,
            "overflow_x": null,
            "overflow_y": null,
            "padding": null,
            "right": null,
            "top": null,
            "visibility": null,
            "width": null
          }
        },
        "2c05d8345a1042b8918733bd9b7ec146": {
          "model_module": "@jupyter-widgets/controls",
          "model_name": "DescriptionStyleModel",
          "model_module_version": "1.5.0",
          "state": {
            "_model_module": "@jupyter-widgets/controls",
            "_model_module_version": "1.5.0",
            "_model_name": "DescriptionStyleModel",
            "_view_count": null,
            "_view_module": "@jupyter-widgets/base",
            "_view_module_version": "1.2.0",
            "_view_name": "StyleView",
            "description_width": ""
          }
        },
        "26cdd7e9f0a648ffa85ae572ebfc7574": {
          "model_module": "@jupyter-widgets/controls",
          "model_name": "HBoxModel",
          "model_module_version": "1.5.0",
          "state": {
            "_dom_classes": [],
            "_model_module": "@jupyter-widgets/controls",
            "_model_module_version": "1.5.0",
            "_model_name": "HBoxModel",
            "_view_count": null,
            "_view_module": "@jupyter-widgets/controls",
            "_view_module_version": "1.5.0",
            "_view_name": "HBoxView",
            "box_style": "",
            "children": [
              "IPY_MODEL_f7a4fcf0d4a945acb611d07e29819ace",
              "IPY_MODEL_b72e3647a93a48afb3ef0f27f65c8910",
              "IPY_MODEL_de517020dc1c4e0d8f21d31e22a977ba"
            ],
            "layout": "IPY_MODEL_64a1f0a21fea47eeb79fe4d707d3d4e0"
          }
        },
        "f7a4fcf0d4a945acb611d07e29819ace": {
          "model_module": "@jupyter-widgets/controls",
          "model_name": "HTMLModel",
          "model_module_version": "1.5.0",
          "state": {
            "_dom_classes": [],
            "_model_module": "@jupyter-widgets/controls",
            "_model_module_version": "1.5.0",
            "_model_name": "HTMLModel",
            "_view_count": null,
            "_view_module": "@jupyter-widgets/controls",
            "_view_module_version": "1.5.0",
            "_view_name": "HTMLView",
            "description": "",
            "description_tooltip": null,
            "layout": "IPY_MODEL_2696e743c0cc4ac8bd635de795eeda6f",
            "placeholder": "​",
            "style": "IPY_MODEL_eb777952618e40b0b75c1a6d0928206d",
            "value": "100%"
          }
        },
        "b72e3647a93a48afb3ef0f27f65c8910": {
          "model_module": "@jupyter-widgets/controls",
          "model_name": "FloatProgressModel",
          "model_module_version": "1.5.0",
          "state": {
            "_dom_classes": [],
            "_model_module": "@jupyter-widgets/controls",
            "_model_module_version": "1.5.0",
            "_model_name": "FloatProgressModel",
            "_view_count": null,
            "_view_module": "@jupyter-widgets/controls",
            "_view_module_version": "1.5.0",
            "_view_name": "ProgressView",
            "bar_style": "success",
            "description": "",
            "description_tooltip": null,
            "layout": "IPY_MODEL_b50aa60989ae4197aa0c79e5484d6021",
            "max": 132,
            "min": 0,
            "orientation": "horizontal",
            "style": "IPY_MODEL_46a648693fc844f9a3568e822afb35d7",
            "value": 132
          }
        },
        "de517020dc1c4e0d8f21d31e22a977ba": {
          "model_module": "@jupyter-widgets/controls",
          "model_name": "HTMLModel",
          "model_module_version": "1.5.0",
          "state": {
            "_dom_classes": [],
            "_model_module": "@jupyter-widgets/controls",
            "_model_module_version": "1.5.0",
            "_model_name": "HTMLModel",
            "_view_count": null,
            "_view_module": "@jupyter-widgets/controls",
            "_view_module_version": "1.5.0",
            "_view_name": "HTMLView",
            "description": "",
            "description_tooltip": null,
            "layout": "IPY_MODEL_891c07fd67d14057914a0004f9d40eab",
            "placeholder": "​",
            "style": "IPY_MODEL_ea4d734759594931ae0471f226fb7ae4",
            "value": " 132/132 [00:09&lt;00:00, 17.30it/s]"
          }
        },
        "64a1f0a21fea47eeb79fe4d707d3d4e0": {
          "model_module": "@jupyter-widgets/base",
          "model_name": "LayoutModel",
          "model_module_version": "1.2.0",
          "state": {
            "_model_module": "@jupyter-widgets/base",
            "_model_module_version": "1.2.0",
            "_model_name": "LayoutModel",
            "_view_count": null,
            "_view_module": "@jupyter-widgets/base",
            "_view_module_version": "1.2.0",
            "_view_name": "LayoutView",
            "align_content": null,
            "align_items": null,
            "align_self": null,
            "border": null,
            "bottom": null,
            "display": null,
            "flex": null,
            "flex_flow": null,
            "grid_area": null,
            "grid_auto_columns": null,
            "grid_auto_flow": null,
            "grid_auto_rows": null,
            "grid_column": null,
            "grid_gap": null,
            "grid_row": null,
            "grid_template_areas": null,
            "grid_template_columns": null,
            "grid_template_rows": null,
            "height": null,
            "justify_content": null,
            "justify_items": null,
            "left": null,
            "margin": null,
            "max_height": null,
            "max_width": null,
            "min_height": null,
            "min_width": null,
            "object_fit": null,
            "object_position": null,
            "order": null,
            "overflow": null,
            "overflow_x": null,
            "overflow_y": null,
            "padding": null,
            "right": null,
            "top": null,
            "visibility": null,
            "width": null
          }
        },
        "2696e743c0cc4ac8bd635de795eeda6f": {
          "model_module": "@jupyter-widgets/base",
          "model_name": "LayoutModel",
          "model_module_version": "1.2.0",
          "state": {
            "_model_module": "@jupyter-widgets/base",
            "_model_module_version": "1.2.0",
            "_model_name": "LayoutModel",
            "_view_count": null,
            "_view_module": "@jupyter-widgets/base",
            "_view_module_version": "1.2.0",
            "_view_name": "LayoutView",
            "align_content": null,
            "align_items": null,
            "align_self": null,
            "border": null,
            "bottom": null,
            "display": null,
            "flex": null,
            "flex_flow": null,
            "grid_area": null,
            "grid_auto_columns": null,
            "grid_auto_flow": null,
            "grid_auto_rows": null,
            "grid_column": null,
            "grid_gap": null,
            "grid_row": null,
            "grid_template_areas": null,
            "grid_template_columns": null,
            "grid_template_rows": null,
            "height": null,
            "justify_content": null,
            "justify_items": null,
            "left": null,
            "margin": null,
            "max_height": null,
            "max_width": null,
            "min_height": null,
            "min_width": null,
            "object_fit": null,
            "object_position": null,
            "order": null,
            "overflow": null,
            "overflow_x": null,
            "overflow_y": null,
            "padding": null,
            "right": null,
            "top": null,
            "visibility": null,
            "width": null
          }
        },
        "eb777952618e40b0b75c1a6d0928206d": {
          "model_module": "@jupyter-widgets/controls",
          "model_name": "DescriptionStyleModel",
          "model_module_version": "1.5.0",
          "state": {
            "_model_module": "@jupyter-widgets/controls",
            "_model_module_version": "1.5.0",
            "_model_name": "DescriptionStyleModel",
            "_view_count": null,
            "_view_module": "@jupyter-widgets/base",
            "_view_module_version": "1.2.0",
            "_view_name": "StyleView",
            "description_width": ""
          }
        },
        "b50aa60989ae4197aa0c79e5484d6021": {
          "model_module": "@jupyter-widgets/base",
          "model_name": "LayoutModel",
          "model_module_version": "1.2.0",
          "state": {
            "_model_module": "@jupyter-widgets/base",
            "_model_module_version": "1.2.0",
            "_model_name": "LayoutModel",
            "_view_count": null,
            "_view_module": "@jupyter-widgets/base",
            "_view_module_version": "1.2.0",
            "_view_name": "LayoutView",
            "align_content": null,
            "align_items": null,
            "align_self": null,
            "border": null,
            "bottom": null,
            "display": null,
            "flex": null,
            "flex_flow": null,
            "grid_area": null,
            "grid_auto_columns": null,
            "grid_auto_flow": null,
            "grid_auto_rows": null,
            "grid_column": null,
            "grid_gap": null,
            "grid_row": null,
            "grid_template_areas": null,
            "grid_template_columns": null,
            "grid_template_rows": null,
            "height": null,
            "justify_content": null,
            "justify_items": null,
            "left": null,
            "margin": null,
            "max_height": null,
            "max_width": null,
            "min_height": null,
            "min_width": null,
            "object_fit": null,
            "object_position": null,
            "order": null,
            "overflow": null,
            "overflow_x": null,
            "overflow_y": null,
            "padding": null,
            "right": null,
            "top": null,
            "visibility": null,
            "width": null
          }
        },
        "46a648693fc844f9a3568e822afb35d7": {
          "model_module": "@jupyter-widgets/controls",
          "model_name": "ProgressStyleModel",
          "model_module_version": "1.5.0",
          "state": {
            "_model_module": "@jupyter-widgets/controls",
            "_model_module_version": "1.5.0",
            "_model_name": "ProgressStyleModel",
            "_view_count": null,
            "_view_module": "@jupyter-widgets/base",
            "_view_module_version": "1.2.0",
            "_view_name": "StyleView",
            "bar_color": null,
            "description_width": ""
          }
        },
        "891c07fd67d14057914a0004f9d40eab": {
          "model_module": "@jupyter-widgets/base",
          "model_name": "LayoutModel",
          "model_module_version": "1.2.0",
          "state": {
            "_model_module": "@jupyter-widgets/base",
            "_model_module_version": "1.2.0",
            "_model_name": "LayoutModel",
            "_view_count": null,
            "_view_module": "@jupyter-widgets/base",
            "_view_module_version": "1.2.0",
            "_view_name": "LayoutView",
            "align_content": null,
            "align_items": null,
            "align_self": null,
            "border": null,
            "bottom": null,
            "display": null,
            "flex": null,
            "flex_flow": null,
            "grid_area": null,
            "grid_auto_columns": null,
            "grid_auto_flow": null,
            "grid_auto_rows": null,
            "grid_column": null,
            "grid_gap": null,
            "grid_row": null,
            "grid_template_areas": null,
            "grid_template_columns": null,
            "grid_template_rows": null,
            "height": null,
            "justify_content": null,
            "justify_items": null,
            "left": null,
            "margin": null,
            "max_height": null,
            "max_width": null,
            "min_height": null,
            "min_width": null,
            "object_fit": null,
            "object_position": null,
            "order": null,
            "overflow": null,
            "overflow_x": null,
            "overflow_y": null,
            "padding": null,
            "right": null,
            "top": null,
            "visibility": null,
            "width": null
          }
        },
        "ea4d734759594931ae0471f226fb7ae4": {
          "model_module": "@jupyter-widgets/controls",
          "model_name": "DescriptionStyleModel",
          "model_module_version": "1.5.0",
          "state": {
            "_model_module": "@jupyter-widgets/controls",
            "_model_module_version": "1.5.0",
            "_model_name": "DescriptionStyleModel",
            "_view_count": null,
            "_view_module": "@jupyter-widgets/base",
            "_view_module_version": "1.2.0",
            "_view_name": "StyleView",
            "description_width": ""
          }
        }
      }
    }
  },
  "cells": [
    {
      "cell_type": "markdown",
      "metadata": {
        "id": "eXN6OtX7-pMD"
      },
      "source": [
        "#Dependencies\n",
        "\n",
        "In order to implement our various research methods, we will need to use the following libraries."
      ]
    },
    {
      "cell_type": "code",
      "execution_count": 1,
      "metadata": {
        "colab": {
          "base_uri": "https://localhost:8080/"
        },
        "id": "m_B8GB6H-17L",
        "outputId": "72e317a2-f8b4-44c5-b74c-16c5162f462b"
      },
      "outputs": [
        {
          "output_type": "stream",
          "name": "stdout",
          "text": [
            "Mounted at /content/drive\n",
            "Cloning into 'pytorch-deep-learning'...\n",
            "remote: Enumerating objects: 3588, done.\u001b[K\n",
            "remote: Counting objects: 100% (210/210), done.\u001b[K\n",
            "remote: Compressing objects: 100% (118/118), done.\u001b[K\n",
            "remote: Total 3588 (delta 94), reused 198 (delta 87), pack-reused 3378\u001b[K\n",
            "Receiving objects: 100% (3588/3588), 647.36 MiB | 28.46 MiB/s, done.\n",
            "Resolving deltas: 100% (2050/2050), done.\n",
            "Updating files: 100% (243/243), done.\n"
          ]
        }
      ],
      "source": [
        "# import statements\n",
        "\n",
        "from google.colab import drive  # We import drive so that we can mount our Bitcamp2023 drive to the Colab environment\n",
        "drive.mount('/content/drive') # this command is how we tell google we have permission to access the data on drive\n",
        "import pickle # Use to download pkl dataframe files from drive\n",
        "import pandas as pd # Pandas for manipulating dataframes\n",
        "import os\n",
        "from sklearn.model_selection import train_test_split\n",
        "import shutil # Bringing files into drive\n",
        "from PIL import Image, ImageOps # Used for image processing operations\n",
        "import keras\n",
        "import torch\n",
        "import torchvision\n",
        "from torchvision import transforms\n",
        "import tensorflow as tf\n",
        "from keras.preprocessing import image\n",
        "import numpy as np  # Numpy; for efficient calculations\n",
        "from keras.applications.imagenet_utils import preprocess_input # Used for training and prediction processes with models, filters images to desired criteria \n",
        "\n",
        "#AlexNet imports\n",
        "!git clone https://github.com/mrdbourke/pytorch-deep-learning\n",
        "!mv pytorch-deep-learning/going_modular .\n",
        "!rm -rf pytorch-deep-learning\n",
        "from going_modular.going_modular import data_setup, engine\n",
        "\n",
        "from tqdm.auto import tqdm"
      ]
    },
    {
      "cell_type": "code",
      "execution_count": 2,
      "metadata": {
        "colab": {
          "base_uri": "https://localhost:8080/"
        },
        "id": "kxrWw0b9COTf",
        "outputId": "45b20350-39ef-4e75-afca-2f202382a4c6"
      },
      "outputs": [
        {
          "output_type": "stream",
          "name": "stdout",
          "text": [
            "\u001b[?25l     \u001b[90m━━━━━━━━━━━━━━━━━━━━━━━━━━━━━━━━━━━━━━━━\u001b[0m \u001b[32m0.0/519.2 KB\u001b[0m \u001b[31m?\u001b[0m eta \u001b[36m-:--:--\u001b[0m\r\u001b[2K     \u001b[90m━━━━━━━━━━━━━━━━━━━━━━━━━━━━━━━━━━━━━━\u001b[0m \u001b[32m519.2/519.2 KB\u001b[0m \u001b[31m26.0 MB/s\u001b[0m eta \u001b[36m0:00:00\u001b[0m\n",
            "\u001b[?25h\u001b[?25l     \u001b[90m━━━━━━━━━━━━━━━━━━━━━━━━━━━━━━━━━━━━━━━━\u001b[0m \u001b[32m0.0/1.4 MB\u001b[0m \u001b[31m?\u001b[0m eta \u001b[36m-:--:--\u001b[0m\r\u001b[2K     \u001b[90m━━━━━━━━━━━━━━━━━━━━━━━━━━━━━━━━━━━━━━━━\u001b[0m \u001b[32m1.4/1.4 MB\u001b[0m \u001b[31m85.2 MB/s\u001b[0m eta \u001b[36m0:00:00\u001b[0m\n",
            "\u001b[?25hmlxtend version: 0.22.0\n"
          ]
        }
      ],
      "source": [
        "try:\n",
        "    import torchmetrics, mlxtend\n",
        "    print(f\"mlxtend version: {mlxtend.__version__}\")\n",
        "    assert int(mlxtend.__version__.split(\".\")[1]) >= 19, \"mlxtend verison should be 0.19.0 or higher\"\n",
        "except:\n",
        "    !pip install -q torchmetrics -U mlxtend # <- Note: If you're using Google Colab, this may require restarting the runtime\n",
        "    import torchmetrics, mlxtend\n",
        "    print(f\"mlxtend version: {mlxtend.__version__}\")"
      ]
    },
    {
      "cell_type": "code",
      "execution_count": 3,
      "metadata": {
        "colab": {
          "base_uri": "https://localhost:8080/"
        },
        "id": "D9BOdPc8CRrG",
        "outputId": "e71e00ef-ee6a-4c2d-be45-ee682ccc955e"
      },
      "outputs": [
        {
          "output_type": "stream",
          "name": "stdout",
          "text": [
            "0.22.0\n"
          ]
        }
      ],
      "source": [
        "# Import mlxtend upgraded version\n",
        "import mlxtend \n",
        "print(mlxtend.__version__)\n",
        "assert int(mlxtend.__version__.split(\".\")[1]) >= 19 # should be version 0.19.0 or higher"
      ]
    },
    {
      "cell_type": "code",
      "execution_count": 4,
      "metadata": {
        "id": "P8EqPkBtCiEs"
      },
      "outputs": [],
      "source": [
        "from torchmetrics import ConfusionMatrix\n",
        "from mlxtend.plotting import plot_confusion_matrix"
      ]
    },
    {
      "cell_type": "markdown",
      "metadata": {
        "id": "TG4-FSISBXT3"
      },
      "source": [
        "#Data Preparation"
      ]
    },
    {
      "cell_type": "markdown",
      "metadata": {
        "id": "HjVv8djKK7Kw"
      },
      "source": [
        "**Creating dataframe containing information corresponding with each image we will be using for testing and training. Also bringing in images from Snapshots and NonPolarLowSnapshots folders to our Polar Home Depot folder**\n",
        "\n",
        "NOTE: These images were later moved into different folders because we wanted to reorganize our directories. "
      ]
    },
    {
      "cell_type": "code",
      "execution_count": 5,
      "metadata": {
        "id": "eI_VG5NhFv2m",
        "colab": {
          "base_uri": "https://localhost:8080/",
          "height": 285
        },
        "outputId": "8f6650ea-aada-44fc-a895-8b6d210a55a7"
      },
      "outputs": [
        {
          "output_type": "execute_result",
          "data": {
            "text/plain": [
              "  date of Polar Low Occurance Aqua or Terra?  \\\n",
              "0                  08/11/2020          Terra   \n",
              "1                  08/11/2020          Terra   \n",
              "2                  08/10/2020          Terra   \n",
              "3                  08/13/2020          Terra   \n",
              "4                  08/14/2020          Terra   \n",
              "\n",
              "   How confident are you that this is actually a polar low [1 for low, 2 for high, 0 for definitely not a polar low]  \\\n",
              "0                                                  2                                                                   \n",
              "1                                                  2                                                                   \n",
              "2                                                  2                                                                   \n",
              "3                                                  2                                                                   \n",
              "4                                                  2                                                                   \n",
              "\n",
              "   latitude of box top  longitude of box right side  latitude of box bottom  \\\n",
              "0               -57.94                     -144.555                 -66.748   \n",
              "1               -58.15                     -130.430                 -66.980   \n",
              "2               -51.66                     -143.260                 -60.430   \n",
              "3               -53.31                      -58.410                 -62.110   \n",
              "4               -59.40                      -79.760                 -68.260   \n",
              "\n",
              "   longitude of box left side file name of PNG  \n",
              "0                    -153.348   200811_HS1.png  \n",
              "1                    -139.220   200811_HS2.png  \n",
              "2                    -152.060   200810_HS1.png  \n",
              "3                     -67.230   200813_HS1.png  \n",
              "4                     -88.580   200814_HS1.png  "
            ],
            "text/html": [
              "\n",
              "  <div id=\"df-6dd181f8-cfc0-4fbf-bc41-b4125e41bd03\">\n",
              "    <div class=\"colab-df-container\">\n",
              "      <div>\n",
              "<style scoped>\n",
              "    .dataframe tbody tr th:only-of-type {\n",
              "        vertical-align: middle;\n",
              "    }\n",
              "\n",
              "    .dataframe tbody tr th {\n",
              "        vertical-align: top;\n",
              "    }\n",
              "\n",
              "    .dataframe thead th {\n",
              "        text-align: right;\n",
              "    }\n",
              "</style>\n",
              "<table border=\"1\" class=\"dataframe\">\n",
              "  <thead>\n",
              "    <tr style=\"text-align: right;\">\n",
              "      <th></th>\n",
              "      <th>date of Polar Low Occurance</th>\n",
              "      <th>Aqua or Terra?</th>\n",
              "      <th>How confident are you that this is actually a polar low [1 for low, 2 for high, 0 for definitely not a polar low]</th>\n",
              "      <th>latitude of box top</th>\n",
              "      <th>longitude of box right side</th>\n",
              "      <th>latitude of box bottom</th>\n",
              "      <th>longitude of box left side</th>\n",
              "      <th>file name of PNG</th>\n",
              "    </tr>\n",
              "  </thead>\n",
              "  <tbody>\n",
              "    <tr>\n",
              "      <th>0</th>\n",
              "      <td>08/11/2020</td>\n",
              "      <td>Terra</td>\n",
              "      <td>2</td>\n",
              "      <td>-57.94</td>\n",
              "      <td>-144.555</td>\n",
              "      <td>-66.748</td>\n",
              "      <td>-153.348</td>\n",
              "      <td>200811_HS1.png</td>\n",
              "    </tr>\n",
              "    <tr>\n",
              "      <th>1</th>\n",
              "      <td>08/11/2020</td>\n",
              "      <td>Terra</td>\n",
              "      <td>2</td>\n",
              "      <td>-58.15</td>\n",
              "      <td>-130.430</td>\n",
              "      <td>-66.980</td>\n",
              "      <td>-139.220</td>\n",
              "      <td>200811_HS2.png</td>\n",
              "    </tr>\n",
              "    <tr>\n",
              "      <th>2</th>\n",
              "      <td>08/10/2020</td>\n",
              "      <td>Terra</td>\n",
              "      <td>2</td>\n",
              "      <td>-51.66</td>\n",
              "      <td>-143.260</td>\n",
              "      <td>-60.430</td>\n",
              "      <td>-152.060</td>\n",
              "      <td>200810_HS1.png</td>\n",
              "    </tr>\n",
              "    <tr>\n",
              "      <th>3</th>\n",
              "      <td>08/13/2020</td>\n",
              "      <td>Terra</td>\n",
              "      <td>2</td>\n",
              "      <td>-53.31</td>\n",
              "      <td>-58.410</td>\n",
              "      <td>-62.110</td>\n",
              "      <td>-67.230</td>\n",
              "      <td>200813_HS1.png</td>\n",
              "    </tr>\n",
              "    <tr>\n",
              "      <th>4</th>\n",
              "      <td>08/14/2020</td>\n",
              "      <td>Terra</td>\n",
              "      <td>2</td>\n",
              "      <td>-59.40</td>\n",
              "      <td>-79.760</td>\n",
              "      <td>-68.260</td>\n",
              "      <td>-88.580</td>\n",
              "      <td>200814_HS1.png</td>\n",
              "    </tr>\n",
              "  </tbody>\n",
              "</table>\n",
              "</div>\n",
              "      <button class=\"colab-df-convert\" onclick=\"convertToInteractive('df-6dd181f8-cfc0-4fbf-bc41-b4125e41bd03')\"\n",
              "              title=\"Convert this dataframe to an interactive table.\"\n",
              "              style=\"display:none;\">\n",
              "        \n",
              "  <svg xmlns=\"http://www.w3.org/2000/svg\" height=\"24px\"viewBox=\"0 0 24 24\"\n",
              "       width=\"24px\">\n",
              "    <path d=\"M0 0h24v24H0V0z\" fill=\"none\"/>\n",
              "    <path d=\"M18.56 5.44l.94 2.06.94-2.06 2.06-.94-2.06-.94-.94-2.06-.94 2.06-2.06.94zm-11 1L8.5 8.5l.94-2.06 2.06-.94-2.06-.94L8.5 2.5l-.94 2.06-2.06.94zm10 10l.94 2.06.94-2.06 2.06-.94-2.06-.94-.94-2.06-.94 2.06-2.06.94z\"/><path d=\"M17.41 7.96l-1.37-1.37c-.4-.4-.92-.59-1.43-.59-.52 0-1.04.2-1.43.59L10.3 9.45l-7.72 7.72c-.78.78-.78 2.05 0 2.83L4 21.41c.39.39.9.59 1.41.59.51 0 1.02-.2 1.41-.59l7.78-7.78 2.81-2.81c.8-.78.8-2.07 0-2.86zM5.41 20L4 18.59l7.72-7.72 1.47 1.35L5.41 20z\"/>\n",
              "  </svg>\n",
              "      </button>\n",
              "      \n",
              "  <style>\n",
              "    .colab-df-container {\n",
              "      display:flex;\n",
              "      flex-wrap:wrap;\n",
              "      gap: 12px;\n",
              "    }\n",
              "\n",
              "    .colab-df-convert {\n",
              "      background-color: #E8F0FE;\n",
              "      border: none;\n",
              "      border-radius: 50%;\n",
              "      cursor: pointer;\n",
              "      display: none;\n",
              "      fill: #1967D2;\n",
              "      height: 32px;\n",
              "      padding: 0 0 0 0;\n",
              "      width: 32px;\n",
              "    }\n",
              "\n",
              "    .colab-df-convert:hover {\n",
              "      background-color: #E2EBFA;\n",
              "      box-shadow: 0px 1px 2px rgba(60, 64, 67, 0.3), 0px 1px 3px 1px rgba(60, 64, 67, 0.15);\n",
              "      fill: #174EA6;\n",
              "    }\n",
              "\n",
              "    [theme=dark] .colab-df-convert {\n",
              "      background-color: #3B4455;\n",
              "      fill: #D2E3FC;\n",
              "    }\n",
              "\n",
              "    [theme=dark] .colab-df-convert:hover {\n",
              "      background-color: #434B5C;\n",
              "      box-shadow: 0px 1px 3px 1px rgba(0, 0, 0, 0.15);\n",
              "      filter: drop-shadow(0px 1px 2px rgba(0, 0, 0, 0.3));\n",
              "      fill: #FFFFFF;\n",
              "    }\n",
              "  </style>\n",
              "\n",
              "      <script>\n",
              "        const buttonEl =\n",
              "          document.querySelector('#df-6dd181f8-cfc0-4fbf-bc41-b4125e41bd03 button.colab-df-convert');\n",
              "        buttonEl.style.display =\n",
              "          google.colab.kernel.accessAllowed ? 'block' : 'none';\n",
              "\n",
              "        async function convertToInteractive(key) {\n",
              "          const element = document.querySelector('#df-6dd181f8-cfc0-4fbf-bc41-b4125e41bd03');\n",
              "          const dataTable =\n",
              "            await google.colab.kernel.invokeFunction('convertToInteractive',\n",
              "                                                     [key], {});\n",
              "          if (!dataTable) return;\n",
              "\n",
              "          const docLinkHtml = 'Like what you see? Visit the ' +\n",
              "            '<a target=\"_blank\" href=https://colab.research.google.com/notebooks/data_table.ipynb>data table notebook</a>'\n",
              "            + ' to learn more about interactive tables.';\n",
              "          element.innerHTML = '';\n",
              "          dataTable['output_type'] = 'display_data';\n",
              "          await google.colab.output.renderOutput(dataTable, element);\n",
              "          const docLink = document.createElement('div');\n",
              "          docLink.innerHTML = docLinkHtml;\n",
              "          element.appendChild(docLink);\n",
              "        }\n",
              "      </script>\n",
              "    </div>\n",
              "  </div>\n",
              "  "
            ]
          },
          "metadata": {},
          "execution_count": 5
        }
      ],
      "source": [
        "# Read in of dataframe for Spring 2020, 2021, and 2022\n",
        "# File paths for each pickle file\n",
        "#this includes all of the clean images of size 1000 x 1000 pixels\n",
        "pickle_path = '/content/drive/My Drive/Bitcamp2023/pkl_file.pkl'\n",
        "\n",
        "#loads the dataframe in the pickle file into our dataframe\n",
        "with open(pickle_path, 'rb') as f:\n",
        "  df = pickle.load(f)\n",
        "\n",
        "df.head()"
      ]
    },
    {
      "cell_type": "markdown",
      "metadata": {
        "id": "6sObBWLc6M5f"
      },
      "source": [
        "We took previous semesters filtered pickle files and used the image files in the pickle files to create polar low and non polar low lists\n",
        "\n",
        "the images that were listed in the pickle file were in the shapshot and Nonpolar low snapshot folder in our google drive. We took those images and put them into 2 lists, PL_files and NPL_files. We then used the lists to organize the image files into our drive into polar low and non polar low image folders. We commented out the code to create the folders so that it would not create new folders within the drive every time we run the code. We will later use these images as our testing and training data for our model. "
      ]
    },
    {
      "cell_type": "code",
      "execution_count": 6,
      "metadata": {
        "id": "ZgDFwspe52tE",
        "colab": {
          "base_uri": "https://localhost:8080/"
        },
        "outputId": "9bebf653-1085-4a4d-cdc2-2c637a3eb1d5"
      },
      "outputs": [
        {
          "output_type": "stream",
          "name": "stdout",
          "text": [
            "Total number of files in folders is equal to number of data entries in data frame.\n",
            "660\n",
            "Number of total PL files: \n",
            "460\n",
            "Number of total NPL files: \n",
            "200\n"
          ]
        }
      ],
      "source": [
        "# Gather file names of all image files in Google Drive. We want to have files only of file names provided in our data frame.\n",
        "og_PL_images = os.listdir('/content/drive/My Drive/Bitcamp2023/Polar Lows/')\n",
        "og_NPL_images = os.listdir('/content/drive/My Drive/Bitcamp2023/Non Polar Lows/')\n",
        "images = df['file name of PNG'].tolist()\n",
        "PL_images = []\n",
        "NPL_images = []\n",
        "for i in range(len(og_PL_images)):\n",
        "  PL_images.append(og_PL_images[i][8:])\n",
        "\n",
        "for i in range(len(og_NPL_images)):\n",
        "  NPL_images.append(og_NPL_images[i][8:])\n",
        "\n",
        "PL_files = []\n",
        "NPL_files = []\n",
        "#adds to the list all of the images which are in the polar lows folder which are also \n",
        "#in the dataframe of clean images gotten from the pickle file. \n",
        "for file in PL_images:\n",
        "  if file in images:\n",
        "    PL_files.append(file)\n",
        "\n",
        "#adds to the list all of the images which are in the non polar lows folder \n",
        "#which are also in the dataframe of clean images gotten from the pickle file. \n",
        "for file in NPL_images:\n",
        "  if file in images:\n",
        "    NPL_files.append(file)\n",
        "\n",
        "\n",
        "print(\"Total number of files in folders is equal to number of data entries in data frame.\")\n",
        "print(len(PL_files) + len(NPL_files))\n",
        "print(\"Number of total PL files: \")\n",
        "print(len(PL_files))\n",
        "print(\"Number of total NPL files: \")\n",
        "print(len(NPL_files))\n"
      ]
    },
    {
      "cell_type": "markdown",
      "source": [
        "This block of code created lists of test and train polar low and non polar low images. It then imported those images into folders into our google drive. this code is commented out so it does not create duplicate folders. "
      ],
      "metadata": {
        "id": "kdLSNcEFM3TO"
      }
    },
    {
      "cell_type": "code",
      "execution_count": null,
      "metadata": {
        "id": "ifWl9XRl-kmF"
      },
      "outputs": [],
      "source": [
        "# Testing and Training split with original sized data\n",
        "\n",
        "# Splitting test/train data for PL files\n",
        "PL_x = PL_files\n",
        "PL_y = []\n",
        "for index in PL_x:\n",
        "  PL_y.append('PL')\n",
        "PL_x_train, PL_x_test, PL_y_train, PL_y_test = train_test_split(PL_x, PL_y, test_size=0.20, random_state=42)\n",
        "\n",
        "# Splitting test/train data for NPL files\n",
        "NPL_x = NPL_files\n",
        "NPL_y = []\n",
        "for index in NPL_x:\n",
        "  NPL_y.append('NPL')\n",
        "NPL_x_train, NPL_x_test, NPL_y_train, NPL_y_test = train_test_split(NPL_x, NPL_y, test_size=0.20, random_state=42)\n",
        "\n",
        "'''\n",
        "# Copy images from testing and training split into our drive folders (only needs to be run once)\n",
        "\n",
        "# PL training images\n",
        "source = PL_x_train\n",
        "i = 0\n",
        "for image in PL_x_train:\n",
        "  source = '/content/drive/MyDrive/Bitcamp2023/Polar Lows/Copy of ' + str(PL_x_train[i])\n",
        "  print(source)\n",
        "  destination = '/content/drive/MyDrive/Bitcamp2023/All_Images/training/PL/'\n",
        "  shutil.copy(source, destination)\n",
        "  i = i + 1\n",
        "\n",
        "# PL testing images\n",
        "source = PL_x_test\n",
        "i = 0\n",
        "for image in PL_x_test:\n",
        "  source = '/content/drive/MyDrive/Bitcamp2023/Polar Lows/Copy of ' + str(PL_x_test[i])\n",
        "  destination = '/content/drive/MyDrive/Bitcamp2023/All_Images/testing/PL/'\n",
        "  shutil.copy(source, destination)\n",
        "  i = i + 1\n",
        "\n",
        "# NPL training images\n",
        "source = NPL_x_train\n",
        "i = 0\n",
        "for image in NPL_x_train:\n",
        "  source = '/content/drive/MyDrive/Bitcamp2023/Non Polar Lows/Copy of ' + str(NPL_x_train[i])\n",
        "  destination = '/content/drive/MyDrive/Bitcamp2023/All_Images/training/NPL/'\n",
        "  shutil.copy(source, destination)\n",
        "  i = i + 1\n",
        "\n",
        "# NPL testing images\n",
        "source = NPL_x_test\n",
        "i = 0\n",
        "for image in NPL_x_test:\n",
        "  source = '/content/drive/MyDrive/Bitcamp2023/Non Polar Lows/Copy of ' + str(NPL_x_test[i])\n",
        "  destination = '/content/drive/MyDrive/Bitcamp2023/All_Images/testing/NPL/'\n",
        "  shutil.copy(source, destination)\n",
        "  i = i + 1'''\n"
      ]
    },
    {
      "cell_type": "markdown",
      "source": [
        "# Setting up the data for AlexNet"
      ],
      "metadata": {
        "id": "RJ-F_0KipEc7"
      }
    },
    {
      "cell_type": "markdown",
      "metadata": {
        "id": "VzJI8Vl-J0pF"
      },
      "source": [
        "**Settings to pick random images - affects droput layer functionality**"
      ]
    },
    {
      "cell_type": "code",
      "execution_count": 8,
      "metadata": {
        "id": "TrOVpjERpKb3"
      },
      "outputs": [],
      "source": [
        "#Set the random seed\n",
        "torch.manual_seed(42)\n",
        "torch.cuda.manual_seed(42)"
      ]
    },
    {
      "cell_type": "markdown",
      "metadata": {
        "id": "R8QR2SfXJbJ5"
      },
      "source": [
        "**Transforming the images to the right dimensions so that the model can work with it**"
      ]
    },
    {
      "cell_type": "markdown",
      "source": [
        "Since this model is pretrained, we must normalize each image. This means that we need to transform our images to be like the original images which were fed into the model. This function will turn all of our images into size 224 x 224."
      ],
      "metadata": {
        "id": "CigGK9k4g9Fz"
      }
    },
    {
      "cell_type": "code",
      "execution_count": 9,
      "metadata": {
        "id": "YryJz3S4-3hd"
      },
      "outputs": [],
      "source": [
        "simple_transform = transforms.Compose([\n",
        "    transforms.Resize((224, 224)), # 1. Reshape all images to 224x224 (though some models may require different sizes)\n",
        "    transforms.ToTensor(), # 2. Turn image values to between 0 & 1 \n",
        "    transforms.Normalize(mean=[0.485, 0.456, 0.406], # 3. A mean of [0.485, 0.456, 0.406] (across each colour channel)\n",
        "                         std=[0.229, 0.224, 0.225]) # 4. A standard deviation of [0.229, 0.224, 0.225] (across each colour channel),\n",
        "])"
      ]
    },
    {
      "cell_type": "markdown",
      "metadata": {
        "id": "9-Fyw9bFJnhd"
      },
      "source": [
        "**Loading in the testing and training datasets from drive**"
      ]
    },
    {
      "cell_type": "markdown",
      "source": [
        "We had a 80-20 train-test split. There are 555 training images and 139 testing images. Here we use the paths train_dir and test_dir to create dataloaders which will later on be used to train our model.  "
      ],
      "metadata": {
        "id": "SfUTJYkXjYPw"
      }
    },
    {
      "cell_type": "code",
      "execution_count": 10,
      "metadata": {
        "id": "vBEU1anm-4Dj",
        "colab": {
          "base_uri": "https://localhost:8080/"
        },
        "outputId": "b933aa9a-b218-4fff-b1e5-3b8eabdf7e60"
      },
      "outputs": [
        {
          "output_type": "execute_result",
          "data": {
            "text/plain": [
              "(<torch.utils.data.dataloader.DataLoader at 0x7fb0da756a90>,\n",
              " <torch.utils.data.dataloader.DataLoader at 0x7fafb4358760>,\n",
              " ['NPL', 'PL'])"
            ]
          },
          "metadata": {},
          "execution_count": 10
        }
      ],
      "source": [
        "# Create training and testing DataLoader's as well as get a list of class names\n",
        "train_dir = '/content/drive/My Drive/Bitcamp2023/All_Images/training'\n",
        "test_dir = '/content/drive/My Drive/Bitcamp2023/All_Images/testing'\n",
        "train_dataloader, test_dataloader, class_names = data_setup.create_dataloaders(train_dir = train_dir,\n",
        "                                                                               test_dir = test_dir,\n",
        "                                                                               transform=simple_transform, # resize, convert images to between 0 & 1 and normalize them\n",
        "                                                                               batch_size=32) # set mini-batch size to 32\n",
        "\n",
        "train_dataloader, test_dataloader, class_names\n"
      ]
    },
    {
      "cell_type": "markdown",
      "metadata": {
        "id": "64Gll-0LBT0_"
      },
      "source": [
        "# Training and Testing of Methods and Models"
      ]
    },
    {
      "cell_type": "markdown",
      "metadata": {
        "id": "XzPDOOyGAYsx"
      },
      "source": [
        "## AlexNet Transfer Learning Implementation"
      ]
    },
    {
      "cell_type": "markdown",
      "metadata": {
        "id": "_A4BQP2oNNrV"
      },
      "source": [
        "**Loading in a PyTorch pre-trained model.**"
      ]
    },
    {
      "cell_type": "code",
      "execution_count": 20,
      "metadata": {
        "id": "xVjxSWqtZQEF",
        "colab": {
          "base_uri": "https://localhost:8080/"
        },
        "outputId": "4e4405b1-dff6-46ac-ab54-b4e4f63bff4a"
      },
      "outputs": [
        {
          "output_type": "stream",
          "name": "stderr",
          "text": [
            "Using cache found in /root/.cache/torch/hub/pytorch_vision_v0.10.0\n"
          ]
        },
        {
          "output_type": "execute_result",
          "data": {
            "text/plain": [
              "AlexNet(\n",
              "  (features): Sequential(\n",
              "    (0): Conv2d(3, 64, kernel_size=(11, 11), stride=(4, 4), padding=(2, 2))\n",
              "    (1): ReLU(inplace=True)\n",
              "    (2): MaxPool2d(kernel_size=3, stride=2, padding=0, dilation=1, ceil_mode=False)\n",
              "    (3): Conv2d(64, 192, kernel_size=(5, 5), stride=(1, 1), padding=(2, 2))\n",
              "    (4): ReLU(inplace=True)\n",
              "    (5): MaxPool2d(kernel_size=3, stride=2, padding=0, dilation=1, ceil_mode=False)\n",
              "    (6): Conv2d(192, 384, kernel_size=(3, 3), stride=(1, 1), padding=(1, 1))\n",
              "    (7): ReLU(inplace=True)\n",
              "    (8): Conv2d(384, 256, kernel_size=(3, 3), stride=(1, 1), padding=(1, 1))\n",
              "    (9): ReLU(inplace=True)\n",
              "    (10): Conv2d(256, 256, kernel_size=(3, 3), stride=(1, 1), padding=(1, 1))\n",
              "    (11): ReLU(inplace=True)\n",
              "    (12): MaxPool2d(kernel_size=3, stride=2, padding=0, dilation=1, ceil_mode=False)\n",
              "  )\n",
              "  (avgpool): AdaptiveAvgPool2d(output_size=(6, 6))\n",
              "  (classifier): Sequential(\n",
              "    (0): Dropout(p=0.5, inplace=False)\n",
              "    (1): Linear(in_features=9216, out_features=4096, bias=True)\n",
              "    (2): ReLU(inplace=True)\n",
              "    (3): Dropout(p=0.5, inplace=False)\n",
              "    (4): Linear(in_features=4096, out_features=4096, bias=True)\n",
              "    (5): ReLU(inplace=True)\n",
              "    (6): Linear(in_features=4096, out_features=1000, bias=True)\n",
              "  )\n",
              ")"
            ]
          },
          "metadata": {},
          "execution_count": 20
        }
      ],
      "source": [
        "device = \"cuda\" if torch.cuda.is_available() else \"cpu\"\n",
        "model = torch.hub.load('pytorch/vision:v0.10.0', 'alexnet', pretrained=True).to(device)\n",
        "model.eval()"
      ]
    },
    {
      "cell_type": "markdown",
      "metadata": {
        "id": "C2MNKv95Bb6Z"
      },
      "source": [
        "**Prepare the model to work for our purposes.**"
      ]
    },
    {
      "cell_type": "markdown",
      "source": [
        "Here we are freezing some layers in the model. This is because we do not want the weights associated with these layers to be changed during training."
      ],
      "metadata": {
        "id": "mPkBpb4uquIr"
      }
    },
    {
      "cell_type": "code",
      "execution_count": 21,
      "metadata": {
        "id": "EPGehdGLnmH_"
      },
      "outputs": [],
      "source": [
        "# freeze the base layers in the features section\n",
        "for param in model.features.parameters():\n",
        "    param.requires_grad = False"
      ]
    },
    {
      "cell_type": "markdown",
      "source": [
        "The original AlexNet model can classify images into thousands of classes, but we only want it to classify our images as polar lows or non-polar lows. Here, we make this adjustment to the model by specifying the number of out_features as 2."
      ],
      "metadata": {
        "id": "45_lhOTQq8-l"
      }
    },
    {
      "cell_type": "code",
      "execution_count": 22,
      "metadata": {
        "id": "b1smWwTJmdVz"
      },
      "outputs": [],
      "source": [
        "# Changing the last layer to have only two classes\n",
        "output_shape = 2\n",
        "model.classifier = torch.nn.Sequential(\n",
        "  torch.nn.Dropout(p=0.2, inplace=True), \n",
        "  torch.nn.Linear(in_features=9216, \n",
        "                  out_features= 2, # same number of output units as our number of classes\n",
        "                  bias=True)).to(device)"
      ]
    },
    {
      "cell_type": "markdown",
      "metadata": {
        "id": "XwYvQzVcBklk"
      },
      "source": [
        "**Train model to work with our data.**"
      ]
    },
    {
      "cell_type": "markdown",
      "source": [
        "Here we are defining the loss function that our model will run with"
      ],
      "metadata": {
        "id": "zKEZkkPVsGZx"
      }
    },
    {
      "cell_type": "code",
      "execution_count": 23,
      "metadata": {
        "id": "5-sPNUjko8gV"
      },
      "outputs": [],
      "source": [
        "# Define loss and optimizer\n",
        "loss_fn = torch.nn.CrossEntropyLoss()\n",
        "#adjust the learning rate to 0.0001 for a higher AlexNet accuracy (may not be a higher overall accuracy)\n",
        "optimizer = torch.optim.Adam(model.parameters(), lr=0.0001)"
      ]
    },
    {
      "cell_type": "markdown",
      "source": [
        "This function trains the model. Epochs is the number of times the training dataset runs through the model."
      ],
      "metadata": {
        "id": "cfS2MpRjrdPJ"
      }
    },
    {
      "cell_type": "code",
      "execution_count": 24,
      "metadata": {
        "id": "_B584eFM7BxA",
        "colab": {
          "base_uri": "https://localhost:8080/",
          "height": 205,
          "referenced_widgets": [
            "9784aeacb96f462ea2f70f5b5986a505",
            "66607e521dfb4ff08626d66a2ec42ae7",
            "1b8aa1554be749ac8e6b5f00f3571719",
            "36b1d3bd44c04bc8a46b762a934b3fa2",
            "c79f8eeb991b4f708712d8dae0af2fbc",
            "dd0edb48ec1d440986e50df6c915d554",
            "4c7ba534116a48459d64439ae84391d3",
            "3e93c67b67334677b4463f62b740a1a2",
            "abc713299f0a4bfa8091ac9bf8add5b7",
            "9be7359c1d3d4cd1b8d69a4cede595f4",
            "63c682d81e6941fcb42289eb148a67eb"
          ]
        },
        "outputId": "83cc3cfc-acf8-44c5-ad04-ba81931e5fc6"
      },
      "outputs": [
        {
          "output_type": "display_data",
          "data": {
            "text/plain": [
              "  0%|          | 0/9 [00:00<?, ?it/s]"
            ],
            "application/vnd.jupyter.widget-view+json": {
              "version_major": 2,
              "version_minor": 0,
              "model_id": "9784aeacb96f462ea2f70f5b5986a505"
            }
          },
          "metadata": {}
        },
        {
          "output_type": "stream",
          "name": "stdout",
          "text": [
            "Epoch: 1 | train_loss: 0.5344 | train_acc: 0.7390 | test_loss: 0.3784 | test_acc: 0.8625\n",
            "Epoch: 2 | train_loss: 0.3569 | train_acc: 0.8438 | test_loss: 0.3148 | test_acc: 0.8562\n",
            "Epoch: 3 | train_loss: 0.2958 | train_acc: 0.8603 | test_loss: 0.3084 | test_acc: 0.8812\n",
            "Epoch: 4 | train_loss: 0.2416 | train_acc: 0.9118 | test_loss: 0.3273 | test_acc: 0.9062\n",
            "Epoch: 5 | train_loss: 0.2251 | train_acc: 0.9228 | test_loss: 0.3306 | test_acc: 0.8500\n",
            "Epoch: 6 | train_loss: 0.1862 | train_acc: 0.9375 | test_loss: 0.3263 | test_acc: 0.8438\n",
            "Epoch: 7 | train_loss: 0.1865 | train_acc: 0.9357 | test_loss: 0.3329 | test_acc: 0.8438\n",
            "Epoch: 8 | train_loss: 0.1597 | train_acc: 0.9596 | test_loss: 0.3495 | test_acc: 0.8438\n",
            "Epoch: 9 | train_loss: 0.1464 | train_acc: 0.9614 | test_loss: 0.3365 | test_acc: 0.8375\n"
          ]
        }
      ],
      "source": [
        "model_results = engine.train(model=model,\n",
        "                       train_dataloader=train_dataloader,\n",
        "                       test_dataloader= test_dataloader,\n",
        "                       optimizer=optimizer,\n",
        "                       loss_fn=loss_fn,\n",
        "                       epochs=9,\n",
        "                       device=device)"
      ]
    },
    {
      "cell_type": "markdown",
      "metadata": {
        "id": "Qm9I-oF8B6U-"
      },
      "source": [
        "###Make Predictions\n",
        "\n"
      ]
    },
    {
      "cell_type": "markdown",
      "source": [
        "Here, we are running the testing data through the model and obtaining the predictions from AlexNet."
      ],
      "metadata": {
        "id": "-KfRHCGrvOns"
      }
    },
    {
      "cell_type": "code",
      "execution_count": 25,
      "metadata": {
        "id": "tc4HQdv6BH1R",
        "colab": {
          "base_uri": "https://localhost:8080/",
          "height": 153,
          "referenced_widgets": [
            "f60d485582094ae0a0576ed748e2e8f9",
            "b5bb0882e81f46b4a09f3ee309b4a816",
            "a7c65c2a9f3d4160b1e910ce7e245b59",
            "8a3a1b9d840043c9a8be2688b37045d2",
            "aa3bdb1c14f14359b5c13286c6261d42",
            "479c70accda343afa6fbdf0e80a0c93b",
            "3efb9b120520483d8cf8306a8de45d19",
            "6a0539c3574f40479ed7ee7ba979e7b8",
            "1f59f5817b6946c3b8e690f2118ec6b1",
            "a81afe6e609b4c41bae33c92a86d77e3",
            "2c05d8345a1042b8918733bd9b7ec146"
          ]
        },
        "outputId": "5ce77f76-dbab-4fa4-eb0e-4313602d78ea"
      },
      "outputs": [
        {
          "output_type": "display_data",
          "data": {
            "text/plain": [
              "  0%|          | 0/5 [00:00<?, ?it/s]"
            ],
            "application/vnd.jupyter.widget-view+json": {
              "version_major": 2,
              "version_minor": 0,
              "model_id": "f60d485582094ae0a0576ed748e2e8f9"
            }
          },
          "metadata": {}
        },
        {
          "output_type": "execute_result",
          "data": {
            "text/plain": [
              "tensor([0, 0, 0, 0, 0, 0, 0, 0, 0, 0, 1, 0, 0, 1, 0, 0, 1, 1, 0, 1, 1, 1, 0, 0,\n",
              "        0, 0, 0, 0, 0, 0, 0, 0, 0, 0, 0, 0, 0, 1, 1, 0, 1, 1, 1, 1, 1, 1, 1, 1,\n",
              "        1, 1, 1, 1, 1, 1, 1, 1, 1, 1, 1, 1, 1, 1, 1, 1, 0, 1, 1, 1, 1, 0, 1, 1,\n",
              "        1, 1, 1, 1, 1, 1, 1, 1, 1, 1, 1, 1, 1, 1, 1, 1, 1, 1, 1, 1, 1, 1, 1, 1,\n",
              "        1, 1, 1, 1, 0, 0, 1, 0, 0, 1, 1, 1, 0, 1, 1, 1, 1, 1, 1, 1, 1, 1, 0, 1,\n",
              "        1, 1, 1, 1, 0, 1, 1, 1, 1, 0, 1, 1])"
            ]
          },
          "metadata": {},
          "execution_count": 25
        }
      ],
      "source": [
        "# Make predictions on the entire test dataset\n",
        "test_preds = []\n",
        "model.eval()\n",
        "with torch.inference_mode():\n",
        "  # Loop through the batches in the test dataloader\n",
        "  for X, y in tqdm(test_dataloader):\n",
        "    X, y = X.to(device), y.to(device)\n",
        "    # Pass the data through the model\n",
        "    test_logits = model(X)\n",
        "\n",
        "    # Convert the pred logits to pred probs\n",
        "    pred_probs = torch.softmax(test_logits, dim=1)\n",
        "\n",
        "    # Convert the pred probs into pred labels\n",
        "    pred_labels = torch.argmax(pred_probs, dim=1)\n",
        "\n",
        "    # Add the pred labels to test preds list\n",
        "    test_preds.append(pred_labels)\n",
        "\n",
        "# Concatenate the test preds and put them on the CPU\n",
        "test_preds = torch.cat(test_preds).cpu()\n",
        "test_preds"
      ]
    },
    {
      "cell_type": "markdown",
      "metadata": {
        "id": "Wwh6ky2FB_Hx"
      },
      "source": [
        "### Visual Analysis for AlexNet Model Results"
      ]
    },
    {
      "cell_type": "code",
      "execution_count": 26,
      "metadata": {
        "id": "brs_ByZ2CGcX",
        "colab": {
          "base_uri": "https://localhost:8080/"
        },
        "outputId": "17c29c2e-5fa9-4748-dff7-35bb5368f052"
      },
      "outputs": [
        {
          "output_type": "execute_result",
          "data": {
            "text/plain": [
              "tensor([0, 0, 0, 0, 0, 0, 0, 0, 0, 0, 0, 0, 0, 0, 0, 0, 0, 0, 0, 0, 0, 0, 0, 0,\n",
              "        0, 0, 0, 0, 0, 0, 0, 0, 0, 0, 0, 0, 0, 0, 0, 0, 1, 1, 1, 1, 1, 1, 1, 1,\n",
              "        1, 1, 1, 1, 1, 1, 1, 1, 1, 1, 1, 1, 1, 1, 1, 1, 1, 1, 1, 1, 1, 1, 1, 1,\n",
              "        1, 1, 1, 1, 1, 1, 1, 1, 1, 1, 1, 1, 1, 1, 1, 1, 1, 1, 1, 1, 1, 1, 1, 1,\n",
              "        1, 1, 1, 1, 1, 1, 1, 1, 1, 1, 1, 1, 1, 1, 1, 1, 1, 1, 1, 1, 1, 1, 1, 1,\n",
              "        1, 1, 1, 1, 1, 1, 1, 1, 1, 1, 1, 1])"
            ]
          },
          "metadata": {},
          "execution_count": 26
        }
      ],
      "source": [
        "# Get the truth labels for test dataset\n",
        "test_truth = torch.cat([y for X, y in test_dataloader])\n",
        "test_truth"
      ]
    },
    {
      "cell_type": "markdown",
      "metadata": {
        "id": "NMkq6LSNWWmO"
      },
      "source": [
        "A confusion matrix is created in order to determine the accuracy of the AlexNet model,. The Confusion matrix displays the number of correctly and incorrectly classified polar lows images and the number of correctly and incorrectly classified non polar lows images. From the confusion matrix, it can be concluded that the model can correctly predict 97% of PL images and 77% of NPL images. "
      ]
    },
    {
      "cell_type": "code",
      "execution_count": 27,
      "metadata": {
        "id": "WDre1x9nCUZE",
        "colab": {
          "base_uri": "https://localhost:8080/",
          "height": 310
        },
        "outputId": "6aeab936-8390-4671-e8d4-d08c63a52919"
      },
      "outputs": [
        {
          "output_type": "display_data",
          "data": {
            "text/plain": [
              "<Figure size 400x280 with 1 Axes>"
            ],
            "image/png": "[encoded data removed]"
          },
          "metadata": {}
        }
      ],
      "source": [
        "# Setup confusion matrix instance\n",
        "confmat = ConfusionMatrix(num_classes=len(class_names), task='binary')\n",
        "confmat_tensor = confmat(preds=test_preds,\n",
        "                         target=test_truth)\n",
        "\n",
        "# Plot the confusion matrix\n",
        "fig, ax = plot_confusion_matrix(\n",
        "    conf_mat=confmat_tensor.numpy(), # matplotlib likes working with NumPy\n",
        "    class_names=class_names,\n",
        "    figsize=(4, 2.8)\n",
        ")"
      ]
    },
    {
      "cell_type": "markdown",
      "metadata": {
        "id": "M9m8RCE3dD6u"
      },
      "source": [
        "## Model Performance\n"
      ]
    },
    {
      "cell_type": "markdown",
      "metadata": {
        "id": "bJC8EABj58j8"
      },
      "source": [
        "An epoch is the number of times that the model runs through the entire dataset.\n",
        "The graphs below will compare this hyperparameter with two different indicators of how well our model works.\n",
        "\n",
        "### Epochs vs. Loss\n",
        "\n",
        "Loss is the summation of errors that our model produces. This graph will compare the training loss and the testing loss as the number of epochs increases. A model with a lower loss is considered better than one with a higher loss.\n",
        "\n",
        "### Epochs vs. Accuracy\n",
        "\n",
        "Accuracy is the number of images our model correctly identifies. This graph will compare the training and testing accuracy as the number of epochs increases. The higher the accuracy, the better the model.\n",
        "\n",
        "We are creating these graphs in order to determine the best number of epochs to use when testing and training our images. The goal is to find an epoch in which the accuracy is high and loss is low while also avoiding overfitting. Overfitting can occur when a model is trained on the same images too many times and has trouble predicting images outside of the training dataset. "
      ]
    },
    {
      "cell_type": "code",
      "execution_count": 28,
      "metadata": {
        "id": "FuPtDqrKaNOl",
        "colab": {
          "base_uri": "https://localhost:8080/",
          "height": 641
        },
        "outputId": "4b6aec22-e658-493d-f825-e55e43dc6758"
      },
      "outputs": [
        {
          "output_type": "display_data",
          "data": {
            "text/plain": [
              "<Figure size 1500x700 with 2 Axes>"
            ],
            "image/png": "[encoded data removed]"
          },
          "metadata": {}
        }
      ],
      "source": [
        "# Get the plot_loss_curves() function from helper_functions.py, download the file if we don't have it\n",
        "try:\n",
        "    from helper_functions import plot_loss_curves\n",
        "except:\n",
        "    print(\"[INFO] Couldn't find helper_functions.py, downloading...\")\n",
        "    with open(\"helper_functions.py\", \"wb\") as f:\n",
        "        import requests\n",
        "        request = requests.get(\"https://raw.githubusercontent.com/mrdbourke/pytorch-deep-learning/main/helper_functions.py\")\n",
        "        f.write(request.content)\n",
        "    from helper_functions import plot_loss_curves\n",
        "\n",
        "# Plot the loss curves of our model\n",
        "plot_loss_curves(model_results)\n"
      ]
    },
    {
      "cell_type": "markdown",
      "source": [
        "According to the graph, the testing loss doesn’t change much as the number of epochs increases, however, the training loss decreases significantly. Additionally, testing accuracy decreases slightly as the number of epochs increases, however, the training accuracy increases significantly.\n",
        "\n",
        "From the graphs we can conclude to not run our model with more than 5 epochs for two reasons:\n",
        "\n",
        "Since AlexNet is a pre-trained CNN, a large number of epochs is not necessary to train the model on our dataset\n",
        "\n",
        "When we train the model with a larger number of epochs, it begins to overfit, possibly because of the smaller size of our dataset"
      ],
      "metadata": {
        "id": "679oiUzml2LV"
      }
    },
    {
      "cell_type": "markdown",
      "source": [
        "# Data for Decision Tree"
      ],
      "metadata": {
        "id": "VvfMCytx6wG4"
      }
    },
    {
      "cell_type": "markdown",
      "source": [
        "This code turns our model predictions into a dictionary with the image path,\tclass name,\tpredition probability,\tprediction class, and if it was correctly classified. "
      ],
      "metadata": {
        "id": "JVGw_glcn2FY"
      }
    },
    {
      "cell_type": "code",
      "execution_count": 60,
      "metadata": {
        "id": "FZRjZE-hVBY0",
        "colab": {
          "base_uri": "https://localhost:8080/",
          "height": 538,
          "referenced_widgets": [
            "26cdd7e9f0a648ffa85ae572ebfc7574",
            "f7a4fcf0d4a945acb611d07e29819ace",
            "b72e3647a93a48afb3ef0f27f65c8910",
            "de517020dc1c4e0d8f21d31e22a977ba",
            "64a1f0a21fea47eeb79fe4d707d3d4e0",
            "2696e743c0cc4ac8bd635de795eeda6f",
            "eb777952618e40b0b75c1a6d0928206d",
            "b50aa60989ae4197aa0c79e5484d6021",
            "46a648693fc844f9a3568e822afb35d7",
            "891c07fd67d14057914a0004f9d40eab",
            "ea4d734759594931ae0471f226fb7ae4"
          ]
        },
        "outputId": "09bf3f2f-425d-4a56-a988-34f15d8ab439"
      },
      "outputs": [
        {
          "output_type": "stream",
          "name": "stdout",
          "text": [
            "[PosixPath('/content/drive/My Drive/Bitcamp2023/All_Images/testing/PL/Copy of 190901_GR1.png'), PosixPath('/content/drive/My Drive/Bitcamp2023/All_Images/testing/PL/Copy of 200813_HS1.png'), PosixPath('/content/drive/My Drive/Bitcamp2023/All_Images/testing/PL/Copy of 180602_MG2.png'), PosixPath('/content/drive/My Drive/Bitcamp2023/All_Images/testing/PL/Copy of 180724_RM2.png'), PosixPath('/content/drive/My Drive/Bitcamp2023/All_Images/testing/PL/Copy of 190919_SK1.png'), PosixPath('/content/drive/My Drive/Bitcamp2023/All_Images/testing/PL/Copy of 180625_JH2.png'), PosixPath('/content/drive/My Drive/Bitcamp2023/All_Images/testing/PL/Copy of 190424_VL4.png'), PosixPath('/content/drive/My Drive/Bitcamp2023/All_Images/testing/PL/Copy of 180719_IN7.png'), PosixPath('/content/drive/My Drive/Bitcamp2023/All_Images/testing/PL/Copy of 180909_EU1.png'), PosixPath('/content/drive/My Drive/Bitcamp2023/All_Images/testing/PL/Copy of 201111_JW1.png'), PosixPath('/content/drive/My Drive/Bitcamp2023/All_Images/testing/PL/Copy of 180809_DP1.png'), PosixPath('/content/drive/My Drive/Bitcamp2023/All_Images/testing/PL/Copy of 180603_MG3.png'), PosixPath('/content/drive/My Drive/Bitcamp2023/All_Images/testing/PL/Copy of 201112_JW2.png'), PosixPath('/content/drive/My Drive/Bitcamp2023/All_Images/testing/PL/Copy of 180911_EU4.png'), PosixPath('/content/drive/My Drive/Bitcamp2023/All_Images/testing/PL/Copy of 180823_AF1.png'), PosixPath('/content/drive/My Drive/Bitcamp2023/All_Images/testing/PL/Copy of 180901_MB2.png'), PosixPath('/content/drive/My Drive/Bitcamp2023/All_Images/testing/PL/Copy of 180917_EU7.png'), PosixPath('/content/drive/My Drive/Bitcamp2023/All_Images/testing/PL/Copy of 180808_DP2.png'), PosixPath('/content/drive/My Drive/Bitcamp2023/All_Images/testing/PL/Copy of 180810_DP1.png'), PosixPath('/content/drive/My Drive/Bitcamp2023/All_Images/testing/PL/Copy of 201212_CA1.png'), PosixPath('/content/drive/My Drive/Bitcamp2023/All_Images/testing/PL/Copy of 191110_RK3.png'), PosixPath('/content/drive/My Drive/Bitcamp2023/All_Images/testing/PL/Copy of 190709_RM1.png'), PosixPath('/content/drive/My Drive/Bitcamp2023/All_Images/testing/PL/Copy of 180726_RM1.png'), PosixPath('/content/drive/My Drive/Bitcamp2023/All_Images/testing/PL/Copy of 200811_HS1.png'), PosixPath('/content/drive/My Drive/Bitcamp2023/All_Images/testing/PL/Copy of 180627_JH1.png'), PosixPath('/content/drive/My Drive/Bitcamp2023/All_Images/testing/PL/Copy of 180706_RP2.png'), PosixPath('/content/drive/My Drive/Bitcamp2023/All_Images/testing/PL/Copy of 201112_JW1.png'), PosixPath('/content/drive/My Drive/Bitcamp2023/All_Images/testing/PL/Copy of 191010_MN10.png'), PosixPath('/content/drive/My Drive/Bitcamp2023/All_Images/testing/PL/Copy of 190715_PO1.png'), PosixPath('/content/drive/My Drive/Bitcamp2023/All_Images/testing/PL/Copy of 191225_CE2.png'), PosixPath('/content/drive/My Drive/Bitcamp2023/All_Images/testing/PL/Copy of 191020_AP1.png'), PosixPath('/content/drive/My Drive/Bitcamp2023/All_Images/testing/PL/Copy of 180614_JG1.png'), PosixPath('/content/drive/My Drive/Bitcamp2023/All_Images/testing/PL/Copy of 180801_DP1.png'), PosixPath('/content/drive/My Drive/Bitcamp2023/All_Images/testing/PL/Copy of 190410_ES5.png'), PosixPath('/content/drive/My Drive/Bitcamp2023/All_Images/testing/PL/Copy of 181018_RJ3.png'), PosixPath('/content/drive/My Drive/Bitcamp2023/All_Images/testing/PL/Copy of 181004_MB9.png'), PosixPath('/content/drive/My Drive/Bitcamp2023/All_Images/testing/PL/Copy of 190424_VL2.png'), PosixPath('/content/drive/My Drive/Bitcamp2023/All_Images/testing/PL/Copy of 180923_AP2.png'), PosixPath('/content/drive/My Drive/Bitcamp2023/All_Images/testing/PL/Copy of 201115_JW1.png'), PosixPath('/content/drive/My Drive/Bitcamp2023/All_Images/testing/PL/Copy of 181031_MB8.png'), PosixPath('/content/drive/My Drive/Bitcamp2023/All_Images/testing/PL/Copy of 180920_AP1.png'), PosixPath('/content/drive/My Drive/Bitcamp2023/All_Images/testing/PL/Copy of 181018_RJ2.png'), PosixPath('/content/drive/My Drive/Bitcamp2023/All_Images/testing/PL/Copy of 200702_TG5.png'), PosixPath('/content/drive/My Drive/Bitcamp2023/All_Images/testing/PL/Copy of 191225_CE3.png'), PosixPath('/content/drive/My Drive/Bitcamp2023/All_Images/testing/PL/Copy of 190715_RM3.png'), PosixPath('/content/drive/My Drive/Bitcamp2023/All_Images/testing/PL/Copy of 180724_RM1.png'), PosixPath('/content/drive/My Drive/Bitcamp2023/All_Images/testing/PL/Copy of 191217_KF5.png'), PosixPath('/content/drive/My Drive/Bitcamp2023/All_Images/testing/PL/Copy of 180608_JG2.png'), PosixPath('/content/drive/My Drive/Bitcamp2023/All_Images/testing/PL/Copy of 180727_RM1.png'), PosixPath('/content/drive/My Drive/Bitcamp2023/All_Images/testing/PL/Copy of 191215_KF2.png'), PosixPath('/content/drive/My Drive/Bitcamp2023/All_Images/testing/PL/Copy of 190807_JK2.png'), PosixPath('/content/drive/My Drive/Bitcamp2023/All_Images/testing/PL/Copy of 200820_ML9.png'), PosixPath('/content/drive/My Drive/Bitcamp2023/All_Images/testing/PL/Copy of 180803_DP1.png'), PosixPath('/content/drive/My Drive/Bitcamp2023/All_Images/testing/PL/Copy of 180731_RM2.png'), PosixPath('/content/drive/My Drive/Bitcamp2023/All_Images/testing/PL/Copy of 200810_HS1.png'), PosixPath('/content/drive/My Drive/Bitcamp2023/All_Images/testing/PL/Copy of 180910_EU2.png'), PosixPath('/content/drive/My Drive/Bitcamp2023/All_Images/testing/PL/Copy of 180706_RP1.png'), PosixPath('/content/drive/My Drive/Bitcamp2023/All_Images/testing/PL/Copy of 190426_VL3.png'), PosixPath('/content/drive/My Drive/Bitcamp2023/All_Images/testing/PL/Copy of 190808_JK5.png'), PosixPath('/content/drive/My Drive/Bitcamp2023/All_Images/testing/PL/Copy of 210102_CO2.png'), PosixPath('/content/drive/My Drive/Bitcamp2023/All_Images/testing/PL/Copy of 190425_VL4.png'), PosixPath('/content/drive/My Drive/Bitcamp2023/All_Images/testing/PL/Copy of 191214_AM3.png'), PosixPath('/content/drive/My Drive/Bitcamp2023/All_Images/testing/PL/Copy of 200105_AL8.png'), PosixPath('/content/drive/My Drive/Bitcamp2023/All_Images/testing/PL/Copy of 181013_JS1.png'), PosixPath('/content/drive/My Drive/Bitcamp2023/All_Images/testing/PL/Copy of 181022_JL3.png'), PosixPath('/content/drive/My Drive/Bitcamp2023/All_Images/testing/PL/Copy of 191201_RA3.png'), PosixPath('/content/drive/My Drive/Bitcamp2023/All_Images/testing/PL/Copy of 180926_TL1.png'), PosixPath('/content/drive/My Drive/Bitcamp2023/All_Images/testing/PL/Copy of 180812_AS3.png'), PosixPath('/content/drive/My Drive/Bitcamp2023/All_Images/testing/PL/Copy of 191019_AP2.png'), PosixPath('/content/drive/My Drive/Bitcamp2023/All_Images/testing/PL/Copy of 200323_JC1.png'), PosixPath('/content/drive/My Drive/Bitcamp2023/All_Images/testing/PL/Copy of 181016_RJ1.png'), PosixPath('/content/drive/My Drive/Bitcamp2023/All_Images/testing/PL/Copy of 181020_RJ1.png'), PosixPath('/content/drive/My Drive/Bitcamp2023/All_Images/testing/PL/Copy of 191008_MN8.png'), PosixPath('/content/drive/My Drive/Bitcamp2023/All_Images/testing/PL/Copy of 200125_ZS10.png'), PosixPath('/content/drive/My Drive/Bitcamp2023/All_Images/testing/PL/Copy of 181017_RJ1.png'), PosixPath('/content/drive/My Drive/Bitcamp2023/All_Images/testing/PL/Copy of 191227_CE5.png'), PosixPath('/content/drive/My Drive/Bitcamp2023/All_Images/testing/PL/Copy of 180920_EU12.png'), PosixPath('/content/drive/My Drive/Bitcamp2023/All_Images/testing/PL/Copy of 180605_MG2.png'), PosixPath('/content/drive/My Drive/Bitcamp2023/All_Images/testing/PL/Copy of 180809_DP2.png'), PosixPath('/content/drive/My Drive/Bitcamp2023/All_Images/testing/PL/Copy of 191020_AM1.png'), PosixPath('/content/drive/My Drive/Bitcamp2023/All_Images/testing/PL/Copy of 190829_YT8.png'), PosixPath('/content/drive/My Drive/Bitcamp2023/All_Images/testing/PL/Copy of 280718_RM1.png'), PosixPath('/content/drive/My Drive/Bitcamp2023/All_Images/testing/PL/Copy of 180802_DP2.png'), PosixPath('/content/drive/My Drive/Bitcamp2023/All_Images/testing/PL/Copy of 181010_JS1.png'), PosixPath('/content/drive/My Drive/Bitcamp2023/All_Images/testing/PL/Copy of 190711_RM1.png'), PosixPath('/content/drive/My Drive/Bitcamp2023/All_Images/testing/PL/Copy of 180720_IN10.png'), PosixPath('/content/drive/My Drive/Bitcamp2023/All_Images/testing/PL/Copy of 191202_RA1.png'), PosixPath('/content/drive/My Drive/Bitcamp2023/All_Images/testing/PL/Copy of 180718_IN4.png'), PosixPath('/content/drive/My Drive/Bitcamp2023/All_Images/testing/PL/Copy of 191103_RB1.png'), PosixPath('/content/drive/My Drive/Bitcamp2023/All_Images/testing/PL/Copy of 191117_SJ3.png'), PosixPath('/content/drive/My Drive/Bitcamp2023/All_Images/testing/PL/Copy of 180902_MB1.png'), PosixPath('/content/drive/My Drive/Bitcamp2023/All_Images/testing/PL/Copy of 200120_CW2.png'), PosixPath('/content/drive/My Drive/Bitcamp2023/All_Images/testing/NPL/Copy of 200819_ML7.png'), PosixPath('/content/drive/My Drive/Bitcamp2023/All_Images/testing/NPL/Copy of 191130_VG9.png'), PosixPath('/content/drive/My Drive/Bitcamp2023/All_Images/testing/NPL/Copy of 201226_SP2.png'), PosixPath('/content/drive/My Drive/Bitcamp2023/All_Images/testing/NPL/Copy of 221123_SP1.png'), PosixPath('/content/drive/My Drive/Bitcamp2023/All_Images/testing/NPL/Copy of 200702_TG6.png'), PosixPath('/content/drive/My Drive/Bitcamp2023/All_Images/testing/NPL/Copy of 200318_LW1.png'), PosixPath('/content/drive/My Drive/Bitcamp2023/All_Images/testing/NPL/Copy of 191111_RK10.png'), PosixPath('/content/drive/My Drive/Bitcamp2023/All_Images/testing/NPL/Copy of 221202_SP1.png'), PosixPath('/content/drive/My Drive/Bitcamp2023/All_Images/testing/NPL/Copy of 221204_SP3.png'), PosixPath('/content/drive/My Drive/Bitcamp2023/All_Images/testing/NPL/Copy of 191106_RB1.png'), PosixPath('/content/drive/My Drive/Bitcamp2023/All_Images/testing/NPL/Copy of 191110_RK9.png'), PosixPath('/content/drive/My Drive/Bitcamp2023/All_Images/testing/NPL/Copy of 221222_SP1.png'), PosixPath('/content/drive/My Drive/Bitcamp2023/All_Images/testing/NPL/Copy of 230406_SP3.png'), PosixPath('/content/drive/My Drive/Bitcamp2023/All_Images/testing/NPL/Copy of 201005_JQ2.png'), PosixPath('/content/drive/My Drive/Bitcamp2023/All_Images/testing/NPL/Copy of 221223_SP2.png'), PosixPath('/content/drive/My Drive/Bitcamp2023/All_Images/testing/NPL/Copy of 221204_SP2.png'), PosixPath('/content/drive/My Drive/Bitcamp2023/All_Images/testing/NPL/Copy of 191128_VG8.png'), PosixPath('/content/drive/My Drive/Bitcamp2023/All_Images/testing/NPL/Copy of 221121_SP3.png'), PosixPath('/content/drive/My Drive/Bitcamp2023/All_Images/testing/NPL/Copy of 200830_SP4.png'), PosixPath('/content/drive/My Drive/Bitcamp2023/All_Images/testing/NPL/Copy of 191108_RK6.png'), PosixPath('/content/drive/My Drive/Bitcamp2023/All_Images/testing/NPL/Copy of 190901_AK1.png'), PosixPath('/content/drive/My Drive/Bitcamp2023/All_Images/testing/NPL/Copy of 210117_CO1.png'), PosixPath('/content/drive/My Drive/Bitcamp2023/All_Images/testing/NPL/Copy of 221230_SP2.png'), PosixPath('/content/drive/My Drive/Bitcamp2023/All_Images/testing/NPL/Copy of 191121_SJ8.png'), PosixPath('/content/drive/My Drive/Bitcamp2023/All_Images/testing/NPL/Copy of 191109_RK8.png'), PosixPath('/content/drive/My Drive/Bitcamp2023/All_Images/testing/NPL/Copy of 191020_AP1.png'), PosixPath('/content/drive/My Drive/Bitcamp2023/All_Images/testing/NPL/Copy of 200830_SP3.png'), PosixPath('/content/drive/My Drive/Bitcamp2023/All_Images/testing/NPL/Copy of 201007_JQ1.png'), PosixPath('/content/drive/My Drive/Bitcamp2023/All_Images/testing/NPL/Copy of 200219_DC4.png'), PosixPath('/content/drive/My Drive/Bitcamp2023/All_Images/testing/NPL/Copy of 200703_TG10.png'), PosixPath('/content/drive/My Drive/Bitcamp2023/All_Images/testing/NPL/Copy of 191208_AM9.png'), PosixPath('/content/drive/My Drive/Bitcamp2023/All_Images/testing/NPL/Copy of 191201_RA2.png'), PosixPath('/content/drive/My Drive/Bitcamp2023/All_Images/testing/NPL/Copy of 191127_VG7.png'), PosixPath('/content/drive/My Drive/Bitcamp2023/All_Images/testing/NPL/Copy of 201003_JQ1.png'), PosixPath('/content/drive/My Drive/Bitcamp2023/All_Images/testing/NPL/Copy of 221120_SP3.png'), PosixPath('/content/drive/My Drive/Bitcamp2023/All_Images/testing/NPL/Copy of 190914_GR1.png'), PosixPath('/content/drive/My Drive/Bitcamp2023/All_Images/testing/NPL/Copy of 200307_JL7.png'), PosixPath('/content/drive/My Drive/Bitcamp2023/All_Images/testing/NPL/Copy of 200306_JL6.png'), PosixPath('/content/drive/My Drive/Bitcamp2023/All_Images/testing/NPL/Copy of 230406_SP1.png'), PosixPath('/content/drive/My Drive/Bitcamp2023/All_Images/testing/NPL/Copy of 201111_JW3.png')]\n",
            "['PL', 'PL', 'PL', 'PL', 'PL', 'PL', 'PL', 'PL', 'PL', 'PL', 'PL', 'PL', 'PL', 'PL', 'PL', 'PL', 'PL', 'PL', 'PL', 'PL', 'PL', 'PL', 'PL', 'PL', 'PL', 'PL', 'PL', 'PL', 'PL', 'PL', 'PL', 'PL', 'PL', 'PL', 'PL', 'PL', 'PL', 'PL', 'PL', 'PL', 'PL', 'PL', 'PL', 'PL', 'PL', 'PL', 'PL', 'PL', 'PL', 'PL', 'PL', 'PL', 'PL', 'PL', 'PL', 'PL', 'PL', 'PL', 'PL', 'PL', 'PL', 'PL', 'PL', 'PL', 'PL', 'PL', 'PL', 'PL', 'PL', 'PL', 'PL', 'PL', 'PL', 'PL', 'PL', 'PL', 'PL', 'PL', 'PL', 'PL', 'PL', 'PL', 'PL', 'PL', 'PL', 'PL', 'PL', 'PL', 'PL', 'PL', 'PL', 'PL', 'NPL', 'NPL', 'NPL', 'NPL', 'NPL', 'NPL', 'NPL', 'NPL', 'NPL', 'NPL', 'NPL', 'NPL', 'NPL', 'NPL', 'NPL', 'NPL', 'NPL', 'NPL', 'NPL', 'NPL', 'NPL', 'NPL', 'NPL', 'NPL', 'NPL', 'NPL', 'NPL', 'NPL', 'NPL', 'NPL', 'NPL', 'NPL', 'NPL', 'NPL', 'NPL', 'NPL', 'NPL', 'NPL', 'NPL', 'NPL']\n"
          ]
        },
        {
          "output_type": "display_data",
          "data": {
            "text/plain": [
              "  0%|          | 0/132 [00:00<?, ?it/s]"
            ],
            "application/vnd.jupyter.widget-view+json": {
              "version_major": 2,
              "version_minor": 0,
              "model_id": "26cdd7e9f0a648ffa85ae572ebfc7574"
            }
          },
          "metadata": {}
        },
        {
          "output_type": "execute_result",
          "data": {
            "text/plain": [
              "[{'image_path': PosixPath('/content/drive/My Drive/Bitcamp2023/All_Images/testing/NPL/Copy of 190914_GR1.png'),\n",
              "  'class_name': 'NPL',\n",
              "  'pred_prob': 0.7574030756950378,\n",
              "  'pred_class': 'NPL',\n",
              "  'correct': True},\n",
              " {'image_path': PosixPath('/content/drive/My Drive/Bitcamp2023/All_Images/testing/NPL/Copy of 200307_JL7.png'),\n",
              "  'class_name': 'NPL',\n",
              "  'pred_prob': 0.6319065093994141,\n",
              "  'pred_class': 'PL',\n",
              "  'correct': False},\n",
              " {'image_path': PosixPath('/content/drive/My Drive/Bitcamp2023/All_Images/testing/NPL/Copy of 200306_JL6.png'),\n",
              "  'class_name': 'NPL',\n",
              "  'pred_prob': 0.6029068827629089,\n",
              "  'pred_class': 'NPL',\n",
              "  'correct': True},\n",
              " {'image_path': PosixPath('/content/drive/My Drive/Bitcamp2023/All_Images/testing/NPL/Copy of 230406_SP1.png'),\n",
              "  'class_name': 'NPL',\n",
              "  'pred_prob': 0.6028664112091064,\n",
              "  'pred_class': 'PL',\n",
              "  'correct': False},\n",
              " {'image_path': PosixPath('/content/drive/My Drive/Bitcamp2023/All_Images/testing/NPL/Copy of 201111_JW3.png'),\n",
              "  'class_name': 'NPL',\n",
              "  'pred_prob': 0.9794475436210632,\n",
              "  'pred_class': 'NPL',\n",
              "  'correct': True}]"
            ]
          },
          "metadata": {},
          "execution_count": 60
        }
      ],
      "source": [
        "# Get all test data paths\n",
        "from pathlib import Path\n",
        "test_data_paths = list(Path(test_dir).glob(\"*/*.png\"))\n",
        "test_labels = [path.parent.stem for path in test_data_paths]\n",
        "print(test_data_paths)\n",
        "print(test_labels)\n",
        "\n",
        "# Create a function to return a list of dictionaries with sample, label, prediction, pred prob\n",
        "def pred_and_store(test_paths, model, transform, class_names, device):\n",
        "  test_pred_list = []\n",
        "  for path in tqdm(test_paths):\n",
        "    # Create empty dict to store info for each sample\n",
        "    pred_dict = {}\n",
        "\n",
        "    # Get sample path\n",
        "    pred_dict[\"image_path\"] = path\n",
        "\n",
        "    # Get class name\n",
        "    class_name = path.parent.stem\n",
        "    pred_dict[\"class_name\"] = class_name\n",
        "\n",
        "    # Get prediction and prediction probability\n",
        "    from PIL import Image\n",
        "    img = Image.open(path).convert('RGB') # open image, added .convert to match tensor sizes\n",
        "    transformed_image = transform(img).unsqueeze(0) # transform image and add batch dimension\n",
        "    model.eval()\n",
        "    with torch.inference_mode():\n",
        "      pred_logit = model(transformed_image.to(device))\n",
        "      pred_prob = torch.softmax(pred_logit, dim=1)\n",
        "      pred_label = torch.argmax(pred_prob, dim=1)\n",
        "      pred_class = class_names[pred_label.cpu()]\n",
        "\n",
        "      # Make sure things in the dictionary are back on the CPU \n",
        "      pred_dict[\"pred_prob\"] = pred_prob.unsqueeze(0).max().cpu().item()\n",
        "      pred_dict[\"pred_class\"] = pred_class\n",
        "  \n",
        "    # Does the pred match the true label?\n",
        "    pred_dict[\"correct\"] = class_name == pred_class\n",
        "\n",
        "    # print(pred_dict)\n",
        "    # Add the dictionary to the list of preds\n",
        "    test_pred_list.append(pred_dict)\n",
        "\n",
        "  return test_pred_list\n",
        "\n",
        "test_pred_dicts = pred_and_store(test_paths=test_data_paths,\n",
        "                                 model=model,\n",
        "                                 transform=simple_transform,\n",
        "                                 class_names=class_names,\n",
        "                                 device=device)\n",
        "\n",
        "test_pred_dicts[-5:] # show portion of list of dictionaries"
      ]
    },
    {
      "cell_type": "code",
      "execution_count": null,
      "metadata": {
        "id": "fgErfsYmVLyK"
      },
      "outputs": [],
      "source": [
        "import pandas as pd\n",
        "test_pred_df = pd.DataFrame(test_pred_dicts)"
      ]
    },
    {
      "cell_type": "code",
      "execution_count": 64,
      "metadata": {
        "id": "xKy6tlQQu45L",
        "colab": {
          "base_uri": "https://localhost:8080/"
        },
        "outputId": "f8799ee5-ee6e-4447-c34d-8519d513a16b"
      },
      "outputs": [
        {
          "output_type": "stream",
          "name": "stdout",
          "text": [
            "[PosixPath('/content/drive/My Drive/Bitcamp2023/All_Images/testing/PL/Copy of 190901_GR1.png'), PosixPath('/content/drive/My Drive/Bitcamp2023/All_Images/testing/PL/Copy of 200813_HS1.png'), PosixPath('/content/drive/My Drive/Bitcamp2023/All_Images/testing/PL/Copy of 180602_MG2.png'), PosixPath('/content/drive/My Drive/Bitcamp2023/All_Images/testing/PL/Copy of 180724_RM2.png'), PosixPath('/content/drive/My Drive/Bitcamp2023/All_Images/testing/PL/Copy of 190919_SK1.png'), PosixPath('/content/drive/My Drive/Bitcamp2023/All_Images/testing/PL/Copy of 180625_JH2.png'), PosixPath('/content/drive/My Drive/Bitcamp2023/All_Images/testing/PL/Copy of 190424_VL4.png'), PosixPath('/content/drive/My Drive/Bitcamp2023/All_Images/testing/PL/Copy of 180719_IN7.png'), PosixPath('/content/drive/My Drive/Bitcamp2023/All_Images/testing/PL/Copy of 180909_EU1.png'), PosixPath('/content/drive/My Drive/Bitcamp2023/All_Images/testing/PL/Copy of 201111_JW1.png'), PosixPath('/content/drive/My Drive/Bitcamp2023/All_Images/testing/PL/Copy of 180809_DP1.png'), PosixPath('/content/drive/My Drive/Bitcamp2023/All_Images/testing/PL/Copy of 180603_MG3.png'), PosixPath('/content/drive/My Drive/Bitcamp2023/All_Images/testing/PL/Copy of 201112_JW2.png'), PosixPath('/content/drive/My Drive/Bitcamp2023/All_Images/testing/PL/Copy of 180911_EU4.png'), PosixPath('/content/drive/My Drive/Bitcamp2023/All_Images/testing/PL/Copy of 180823_AF1.png'), PosixPath('/content/drive/My Drive/Bitcamp2023/All_Images/testing/PL/Copy of 180901_MB2.png'), PosixPath('/content/drive/My Drive/Bitcamp2023/All_Images/testing/PL/Copy of 180917_EU7.png'), PosixPath('/content/drive/My Drive/Bitcamp2023/All_Images/testing/PL/Copy of 180808_DP2.png'), PosixPath('/content/drive/My Drive/Bitcamp2023/All_Images/testing/PL/Copy of 180810_DP1.png'), PosixPath('/content/drive/My Drive/Bitcamp2023/All_Images/testing/PL/Copy of 201212_CA1.png'), PosixPath('/content/drive/My Drive/Bitcamp2023/All_Images/testing/PL/Copy of 191110_RK3.png'), PosixPath('/content/drive/My Drive/Bitcamp2023/All_Images/testing/PL/Copy of 190709_RM1.png'), PosixPath('/content/drive/My Drive/Bitcamp2023/All_Images/testing/PL/Copy of 180726_RM1.png'), PosixPath('/content/drive/My Drive/Bitcamp2023/All_Images/testing/PL/Copy of 200811_HS1.png'), PosixPath('/content/drive/My Drive/Bitcamp2023/All_Images/testing/PL/Copy of 180627_JH1.png'), PosixPath('/content/drive/My Drive/Bitcamp2023/All_Images/testing/PL/Copy of 180706_RP2.png'), PosixPath('/content/drive/My Drive/Bitcamp2023/All_Images/testing/PL/Copy of 201112_JW1.png'), PosixPath('/content/drive/My Drive/Bitcamp2023/All_Images/testing/PL/Copy of 191010_MN10.png'), PosixPath('/content/drive/My Drive/Bitcamp2023/All_Images/testing/PL/Copy of 190715_PO1.png'), PosixPath('/content/drive/My Drive/Bitcamp2023/All_Images/testing/PL/Copy of 191225_CE2.png'), PosixPath('/content/drive/My Drive/Bitcamp2023/All_Images/testing/PL/Copy of 191020_AP1.png'), PosixPath('/content/drive/My Drive/Bitcamp2023/All_Images/testing/PL/Copy of 180614_JG1.png'), PosixPath('/content/drive/My Drive/Bitcamp2023/All_Images/testing/PL/Copy of 180801_DP1.png'), PosixPath('/content/drive/My Drive/Bitcamp2023/All_Images/testing/PL/Copy of 190410_ES5.png'), PosixPath('/content/drive/My Drive/Bitcamp2023/All_Images/testing/PL/Copy of 181018_RJ3.png'), PosixPath('/content/drive/My Drive/Bitcamp2023/All_Images/testing/PL/Copy of 181004_MB9.png'), PosixPath('/content/drive/My Drive/Bitcamp2023/All_Images/testing/PL/Copy of 190424_VL2.png'), PosixPath('/content/drive/My Drive/Bitcamp2023/All_Images/testing/PL/Copy of 180923_AP2.png'), PosixPath('/content/drive/My Drive/Bitcamp2023/All_Images/testing/PL/Copy of 201115_JW1.png'), PosixPath('/content/drive/My Drive/Bitcamp2023/All_Images/testing/PL/Copy of 181031_MB8.png'), PosixPath('/content/drive/My Drive/Bitcamp2023/All_Images/testing/PL/Copy of 180920_AP1.png'), PosixPath('/content/drive/My Drive/Bitcamp2023/All_Images/testing/PL/Copy of 181018_RJ2.png'), PosixPath('/content/drive/My Drive/Bitcamp2023/All_Images/testing/PL/Copy of 200702_TG5.png'), PosixPath('/content/drive/My Drive/Bitcamp2023/All_Images/testing/PL/Copy of 191225_CE3.png'), PosixPath('/content/drive/My Drive/Bitcamp2023/All_Images/testing/PL/Copy of 190715_RM3.png'), PosixPath('/content/drive/My Drive/Bitcamp2023/All_Images/testing/PL/Copy of 180724_RM1.png'), PosixPath('/content/drive/My Drive/Bitcamp2023/All_Images/testing/PL/Copy of 191217_KF5.png'), PosixPath('/content/drive/My Drive/Bitcamp2023/All_Images/testing/PL/Copy of 180608_JG2.png'), PosixPath('/content/drive/My Drive/Bitcamp2023/All_Images/testing/PL/Copy of 180727_RM1.png'), PosixPath('/content/drive/My Drive/Bitcamp2023/All_Images/testing/PL/Copy of 191215_KF2.png'), PosixPath('/content/drive/My Drive/Bitcamp2023/All_Images/testing/PL/Copy of 190807_JK2.png'), PosixPath('/content/drive/My Drive/Bitcamp2023/All_Images/testing/PL/Copy of 200820_ML9.png'), PosixPath('/content/drive/My Drive/Bitcamp2023/All_Images/testing/PL/Copy of 180803_DP1.png'), PosixPath('/content/drive/My Drive/Bitcamp2023/All_Images/testing/PL/Copy of 180731_RM2.png'), PosixPath('/content/drive/My Drive/Bitcamp2023/All_Images/testing/PL/Copy of 200810_HS1.png'), PosixPath('/content/drive/My Drive/Bitcamp2023/All_Images/testing/PL/Copy of 180910_EU2.png'), PosixPath('/content/drive/My Drive/Bitcamp2023/All_Images/testing/PL/Copy of 180706_RP1.png'), PosixPath('/content/drive/My Drive/Bitcamp2023/All_Images/testing/PL/Copy of 190426_VL3.png'), PosixPath('/content/drive/My Drive/Bitcamp2023/All_Images/testing/PL/Copy of 190808_JK5.png'), PosixPath('/content/drive/My Drive/Bitcamp2023/All_Images/testing/PL/Copy of 210102_CO2.png'), PosixPath('/content/drive/My Drive/Bitcamp2023/All_Images/testing/PL/Copy of 190425_VL4.png'), PosixPath('/content/drive/My Drive/Bitcamp2023/All_Images/testing/PL/Copy of 191214_AM3.png'), PosixPath('/content/drive/My Drive/Bitcamp2023/All_Images/testing/PL/Copy of 200105_AL8.png'), PosixPath('/content/drive/My Drive/Bitcamp2023/All_Images/testing/PL/Copy of 181013_JS1.png'), PosixPath('/content/drive/My Drive/Bitcamp2023/All_Images/testing/PL/Copy of 181022_JL3.png'), PosixPath('/content/drive/My Drive/Bitcamp2023/All_Images/testing/PL/Copy of 191201_RA3.png'), PosixPath('/content/drive/My Drive/Bitcamp2023/All_Images/testing/PL/Copy of 180926_TL1.png'), PosixPath('/content/drive/My Drive/Bitcamp2023/All_Images/testing/PL/Copy of 180812_AS3.png'), PosixPath('/content/drive/My Drive/Bitcamp2023/All_Images/testing/PL/Copy of 191019_AP2.png'), PosixPath('/content/drive/My Drive/Bitcamp2023/All_Images/testing/PL/Copy of 200323_JC1.png'), PosixPath('/content/drive/My Drive/Bitcamp2023/All_Images/testing/PL/Copy of 181016_RJ1.png'), PosixPath('/content/drive/My Drive/Bitcamp2023/All_Images/testing/PL/Copy of 181020_RJ1.png'), PosixPath('/content/drive/My Drive/Bitcamp2023/All_Images/testing/PL/Copy of 191008_MN8.png'), PosixPath('/content/drive/My Drive/Bitcamp2023/All_Images/testing/PL/Copy of 200125_ZS10.png'), PosixPath('/content/drive/My Drive/Bitcamp2023/All_Images/testing/PL/Copy of 181017_RJ1.png'), PosixPath('/content/drive/My Drive/Bitcamp2023/All_Images/testing/PL/Copy of 191227_CE5.png'), PosixPath('/content/drive/My Drive/Bitcamp2023/All_Images/testing/PL/Copy of 180920_EU12.png'), PosixPath('/content/drive/My Drive/Bitcamp2023/All_Images/testing/PL/Copy of 180605_MG2.png'), PosixPath('/content/drive/My Drive/Bitcamp2023/All_Images/testing/PL/Copy of 180809_DP2.png'), PosixPath('/content/drive/My Drive/Bitcamp2023/All_Images/testing/PL/Copy of 191020_AM1.png'), PosixPath('/content/drive/My Drive/Bitcamp2023/All_Images/testing/PL/Copy of 190829_YT8.png'), PosixPath('/content/drive/My Drive/Bitcamp2023/All_Images/testing/PL/Copy of 280718_RM1.png'), PosixPath('/content/drive/My Drive/Bitcamp2023/All_Images/testing/PL/Copy of 180802_DP2.png'), PosixPath('/content/drive/My Drive/Bitcamp2023/All_Images/testing/PL/Copy of 181010_JS1.png'), PosixPath('/content/drive/My Drive/Bitcamp2023/All_Images/testing/PL/Copy of 190711_RM1.png'), PosixPath('/content/drive/My Drive/Bitcamp2023/All_Images/testing/PL/Copy of 180720_IN10.png'), PosixPath('/content/drive/My Drive/Bitcamp2023/All_Images/testing/PL/Copy of 191202_RA1.png'), PosixPath('/content/drive/My Drive/Bitcamp2023/All_Images/testing/PL/Copy of 180718_IN4.png'), PosixPath('/content/drive/My Drive/Bitcamp2023/All_Images/testing/PL/Copy of 191103_RB1.png'), PosixPath('/content/drive/My Drive/Bitcamp2023/All_Images/testing/PL/Copy of 191117_SJ3.png'), PosixPath('/content/drive/My Drive/Bitcamp2023/All_Images/testing/PL/Copy of 180902_MB1.png'), PosixPath('/content/drive/My Drive/Bitcamp2023/All_Images/testing/PL/Copy of 200120_CW2.png'), PosixPath('/content/drive/My Drive/Bitcamp2023/All_Images/testing/NPL/Copy of 200819_ML7.png'), PosixPath('/content/drive/My Drive/Bitcamp2023/All_Images/testing/NPL/Copy of 191130_VG9.png'), PosixPath('/content/drive/My Drive/Bitcamp2023/All_Images/testing/NPL/Copy of 201226_SP2.png'), PosixPath('/content/drive/My Drive/Bitcamp2023/All_Images/testing/NPL/Copy of 221123_SP1.png'), PosixPath('/content/drive/My Drive/Bitcamp2023/All_Images/testing/NPL/Copy of 200702_TG6.png'), PosixPath('/content/drive/My Drive/Bitcamp2023/All_Images/testing/NPL/Copy of 200318_LW1.png'), PosixPath('/content/drive/My Drive/Bitcamp2023/All_Images/testing/NPL/Copy of 191111_RK10.png'), PosixPath('/content/drive/My Drive/Bitcamp2023/All_Images/testing/NPL/Copy of 221202_SP1.png'), PosixPath('/content/drive/My Drive/Bitcamp2023/All_Images/testing/NPL/Copy of 221204_SP3.png'), PosixPath('/content/drive/My Drive/Bitcamp2023/All_Images/testing/NPL/Copy of 191106_RB1.png'), PosixPath('/content/drive/My Drive/Bitcamp2023/All_Images/testing/NPL/Copy of 191110_RK9.png'), PosixPath('/content/drive/My Drive/Bitcamp2023/All_Images/testing/NPL/Copy of 221222_SP1.png'), PosixPath('/content/drive/My Drive/Bitcamp2023/All_Images/testing/NPL/Copy of 230406_SP3.png'), PosixPath('/content/drive/My Drive/Bitcamp2023/All_Images/testing/NPL/Copy of 201005_JQ2.png'), PosixPath('/content/drive/My Drive/Bitcamp2023/All_Images/testing/NPL/Copy of 221223_SP2.png'), PosixPath('/content/drive/My Drive/Bitcamp2023/All_Images/testing/NPL/Copy of 221204_SP2.png'), PosixPath('/content/drive/My Drive/Bitcamp2023/All_Images/testing/NPL/Copy of 191128_VG8.png'), PosixPath('/content/drive/My Drive/Bitcamp2023/All_Images/testing/NPL/Copy of 221121_SP3.png'), PosixPath('/content/drive/My Drive/Bitcamp2023/All_Images/testing/NPL/Copy of 200830_SP4.png'), PosixPath('/content/drive/My Drive/Bitcamp2023/All_Images/testing/NPL/Copy of 191108_RK6.png'), PosixPath('/content/drive/My Drive/Bitcamp2023/All_Images/testing/NPL/Copy of 190901_AK1.png'), PosixPath('/content/drive/My Drive/Bitcamp2023/All_Images/testing/NPL/Copy of 210117_CO1.png'), PosixPath('/content/drive/My Drive/Bitcamp2023/All_Images/testing/NPL/Copy of 221230_SP2.png'), PosixPath('/content/drive/My Drive/Bitcamp2023/All_Images/testing/NPL/Copy of 191121_SJ8.png'), PosixPath('/content/drive/My Drive/Bitcamp2023/All_Images/testing/NPL/Copy of 191109_RK8.png'), PosixPath('/content/drive/My Drive/Bitcamp2023/All_Images/testing/NPL/Copy of 191020_AP1.png'), PosixPath('/content/drive/My Drive/Bitcamp2023/All_Images/testing/NPL/Copy of 200830_SP3.png'), PosixPath('/content/drive/My Drive/Bitcamp2023/All_Images/testing/NPL/Copy of 201007_JQ1.png'), PosixPath('/content/drive/My Drive/Bitcamp2023/All_Images/testing/NPL/Copy of 200219_DC4.png'), PosixPath('/content/drive/My Drive/Bitcamp2023/All_Images/testing/NPL/Copy of 200703_TG10.png'), PosixPath('/content/drive/My Drive/Bitcamp2023/All_Images/testing/NPL/Copy of 191208_AM9.png'), PosixPath('/content/drive/My Drive/Bitcamp2023/All_Images/testing/NPL/Copy of 191201_RA2.png'), PosixPath('/content/drive/My Drive/Bitcamp2023/All_Images/testing/NPL/Copy of 191127_VG7.png'), PosixPath('/content/drive/My Drive/Bitcamp2023/All_Images/testing/NPL/Copy of 201003_JQ1.png'), PosixPath('/content/drive/My Drive/Bitcamp2023/All_Images/testing/NPL/Copy of 221120_SP3.png'), PosixPath('/content/drive/My Drive/Bitcamp2023/All_Images/testing/NPL/Copy of 190914_GR1.png'), PosixPath('/content/drive/My Drive/Bitcamp2023/All_Images/testing/NPL/Copy of 200307_JL7.png'), PosixPath('/content/drive/My Drive/Bitcamp2023/All_Images/testing/NPL/Copy of 200306_JL6.png'), PosixPath('/content/drive/My Drive/Bitcamp2023/All_Images/testing/NPL/Copy of 230406_SP1.png'), PosixPath('/content/drive/My Drive/Bitcamp2023/All_Images/testing/NPL/Copy of 201111_JW3.png')]\n",
            "['190901_GR1.png', '200813_HS1.png', '180602_MG2.png', '180724_RM2.png', '190919_SK1.png', '180625_JH2.png', '190424_VL4.png', '180719_IN7.png', '180909_EU1.png', '201111_JW1.png', '180809_DP1.png', '180603_MG3.png', '201112_JW2.png', '180911_EU4.png', '180823_AF1.png', '180901_MB2.png', '180917_EU7.png', '180808_DP2.png', '180810_DP1.png', '201212_CA1.png', '191110_RK3.png', '190709_RM1.png', '180726_RM1.png', '200811_HS1.png', '180627_JH1.png', '180706_RP2.png', '201112_JW1.png', '191010_MN10.png', '190715_PO1.png', '191225_CE2.png', '191020_AP1.png', '180614_JG1.png', '180801_DP1.png', '190410_ES5.png', '181018_RJ3.png', '181004_MB9.png', '190424_VL2.png', '180923_AP2.png', '201115_JW1.png', '181031_MB8.png', '180920_AP1.png', '181018_RJ2.png', '200702_TG5.png', '191225_CE3.png', '190715_RM3.png', '180724_RM1.png', '191217_KF5.png', '180608_JG2.png', '180727_RM1.png', '191215_KF2.png', '190807_JK2.png', '200820_ML9.png', '180803_DP1.png', '180731_RM2.png', '200810_HS1.png', '180910_EU2.png', '180706_RP1.png', '190426_VL3.png', '190808_JK5.png', '210102_CO2.png', '190425_VL4.png', '191214_AM3.png', '200105_AL8.png', '181013_JS1.png', '181022_JL3.png', '191201_RA3.png', '180926_TL1.png', '180812_AS3.png', '191019_AP2.png', '200323_JC1.png', '181016_RJ1.png', '181020_RJ1.png', '191008_MN8.png', '200125_ZS10.png', '181017_RJ1.png', '191227_CE5.png', '180920_EU12.png', '180605_MG2.png', '180809_DP2.png', '191020_AM1.png', '190829_YT8.png', '280718_RM1.png', '180802_DP2.png', '181010_JS1.png', '190711_RM1.png', '180720_IN10.png', '191202_RA1.png', '180718_IN4.png', '191103_RB1.png', '191117_SJ3.png', '180902_MB1.png', '200120_CW2.png', '200819_ML7.png', '191130_VG9.png', '201226_SP2.png', '221123_SP1.png', '200702_TG6.png', '200318_LW1.png', '191111_RK10.png', '221202_SP1.png', '221204_SP3.png', '191106_RB1.png', '191110_RK9.png', '221222_SP1.png', '230406_SP3.png', '201005_JQ2.png', '221223_SP2.png', '221204_SP2.png', '191128_VG8.png', '221121_SP3.png', '200830_SP4.png', '191108_RK6.png', '190901_AK1.png', '210117_CO1.png', '221230_SP2.png', '191121_SJ8.png', '191109_RK8.png', '191020_AP1.png', '200830_SP3.png', '201007_JQ1.png', '200219_DC4.png', '200703_TG10.png', '191208_AM9.png', '191201_RA2.png', '191127_VG7.png', '201003_JQ1.png', '221120_SP3.png', '190914_GR1.png', '200307_JL7.png', '200306_JL6.png', '230406_SP1.png', '201111_JW3.png']\n"
          ]
        }
      ],
      "source": [
        "# Get file names of files tested by AlexNet\n",
        "\n",
        "paths = test_pred_df['image_path'].tolist()\n",
        "print(paths)\n",
        "\n",
        "stringFilePaths = []\n",
        "for i in paths:\n",
        "  stringPath = str(i)\n",
        "  filePath = os.path.basename(stringPath)\n",
        "  stringFilePaths.append(filePath[8:])\n",
        "\n",
        "print(stringFilePaths)"
      ]
    },
    {
      "cell_type": "code",
      "execution_count": null,
      "metadata": {
        "id": "74Apk0yf1vGx"
      },
      "outputs": [],
      "source": [
        "# Get dataframe with data associated with each file tested by AlexNet\n",
        "\n",
        "rowIndicesNeeded = []\n",
        "for i in stringFilePaths:\n",
        "  rowIndicesNeeded.append(df[df['file name of PNG'] == i].index[0])\n",
        "\n",
        "print(rowIndicesNeeded)\n",
        "print(\"Amount of rows in df: \" + str(len(rowIndicesNeeded)))\n",
        "\n",
        "df_testing = pd.DataFrame()\n",
        "\n",
        "for i in rowIndicesNeeded:\n",
        "  df_testing = df_testing.append(df.iloc[i])\n",
        "\n",
        "df_testing.reset_index(inplace=True, drop=True)\n",
        "df_testing = df_testing[[\"longitude of box right side\", \"latitude of box top\", \"file name of PNG\", \"How confident are you that this is actually a polar low [1 for low, 2 for high, 0 for definitely not a polar low]\"]]\n",
        "\n",
        "df_testing.head()"
      ]
    },
    {
      "cell_type": "markdown",
      "metadata": {
        "id": "tSZ2mNVeAiuA"
      },
      "source": [
        "##Decision Tree Implementation"
      ]
    },
    {
      "cell_type": "markdown",
      "metadata": {
        "id": "yRZYGYaggI7q"
      },
      "source": [
        "The decision tree was created to further classify the images based on the latitude and longitude of the image. For a polar low to be considered a polar low, it has to be either above 40 latitudes or below -40 latitudes. We thought that through creating a decision tree, we would be able to fine tune our model based on the definition of a polar low. our goal was to improve the accuracy from just using Alexnet alone. \n",
        "\n",
        "After running AlexNet and classifying the images, we ran the AlexNet image predictions, stored in an array named “master”, through our decision tree. For the depth of our decision tree, we made it equal to 2 to avoid overfitting data. "
      ]
    },
    {
      "cell_type": "code",
      "execution_count": 79,
      "metadata": {
        "id": "TPyFMS40OHWn",
        "colab": {
          "base_uri": "https://localhost:8080/"
        },
        "outputId": "74e48b82-8958-4c28-96ea-bb86c4328425"
      },
      "outputs": [
        {
          "output_type": "stream",
          "name": "stdout",
          "text": [
            "[[tensor(0), 5.732601079, 70.24288221], [tensor(0), -58.41, -53.31], [tensor(0), -10.7558, 53.0721], [tensor(0), 122.1478, 64.7946], [tensor(0), -50.71477907, -41.90928128], [tensor(0), 179.7803, -46.4502], [tensor(0), -16.1719, 55.3359], [tensor(0), -32.7352, 107.7523], [tensor(0), -129.8861, 55.1063], [tensor(0), 144.7543, -40.0277], [tensor(1), -69.9701, -56.7218], [tensor(0), -138.0295, 60.0808], [tensor(0), -16.7922, 62.2947], [tensor(1), 118.8193, -52.5674], [tensor(0), 33.7384, -54.1125], [tensor(0), -89.5054, -53.1572], [tensor(1), 150.2754, 61.3916], [tensor(1), -105.3919, -57.141], [tensor(0), -100.8938, -56.1678], [tensor(1), -5.0867, -40.0347], [tensor(1), -142.7567, 49.5112], [tensor(1), 140.916, -53.021], [tensor(0), 152.0314, -47.9222], [tensor(0), -144.555, -57.94], [tensor(0), -81.8586, -48.7855], [tensor(0), 161.2761, -47.6964], [tensor(0), -75.8646, -48.7035], [tensor(0), 149.1628, -47.9645], [tensor(0), -116.1654, -49.3514], [tensor(0), 163.9228, 52.7026], [tensor(0), -116.6699, 44.3931], [tensor(0), -164.6687, -40.7485], [tensor(0), -25.2023, -43.0598], [tensor(0), 175.9095, 53.8786], [tensor(0), -138.02, -47.42], [tensor(0), -170.2969, 66.4102], [tensor(0), -90.3516, -61.3828], [tensor(1), -47.6313, 64.9176], [tensor(1), -142.2733, 56.7484], [tensor(0), 146.2852, -55.7578], [tensor(1), 154.892, 57.9253], [tensor(1), -153.51, -49.4], [tensor(1), -92.4234, -42.179], [tensor(1), 91.2183, -46.2956], [tensor(1), 8.9885, -51.4559], [tensor(1), -45.034, 64.2055], [tensor(1), 117.0704, -43.6623], [tensor(1), 102.4617, -40.1483], [tensor(1), -144.6874, -47.4567], [tensor(1), -154.6561, 59.6965], [tensor(1), -22.1697, 48.8619], [tensor(1), 177.8863, -21.8088], [tensor(1), 117.0944, -46.3122], [tensor(1), 87.8228, -54.283], [tensor(1), -143.26, -51.66], [tensor(1), 136.4034, 61.8169], [tensor(1), 150.0469, -46.7754], [tensor(1), -138.3047, -60.3281], [tensor(1), -15.4465, 50.2516], [tensor(1), 63.3196, -43.2398], [tensor(1), -143.0156, 60.3984], [tensor(1), 91.4027, -47.1526], [tensor(1), -157.0472, -40.0399], [tensor(1), -163.5004, -42.9642], [tensor(0), -135.6504, -42.5391], [tensor(1), 4.8294, -52.0815], [tensor(1), -59.6286, 76.2489], [tensor(1), -10.3003, 79.761], [tensor(1), -145.2842, 55.5791], [tensor(0), 77.0739, -57.4436], [tensor(1), -16.9, -43.6], [tensor(1), 149.64, -43.97], [tensor(1), -169.2811, -54.5369], [tensor(1), 18.373, -52.458], [tensor(1), -41.25, 60.39], [tensor(1), 107.1561, -45.2484], [tensor(1), 122.168, 76.7725], [tensor(1), -41.9866, 58.8107], [tensor(1), -107.8272, -55.6263], [tensor(1), 163.7059, -51.6347], [tensor(1), 61.6339, -49.3829], [tensor(1), 5.0102, -42.5595], [tensor(1), 102.8691, -47.151], [tensor(1), 95.3561, -55.2817], [tensor(1), -149.024, -48.7234], [tensor(1), -50.3395, 67.9078], [tensor(1), -97.1412, -54.3737], [tensor(1), -156.6567, -43.9893], [tensor(1), 174.472, 54.4401], [tensor(1), -143.5197, 49.4553], [tensor(1), -134.7947, 59.7909], [tensor(1), -114.5714, -52.2539], [tensor(1), 71.8815, 20.1913], [tensor(1), -94.3346, -47.4641], [tensor(1), 11.3768, -42.1949], [tensor(1), -133.0883, 30.1086], [tensor(1), -32.0107, 57.6334], [tensor(1), -91.6665, -61.6127], [tensor(1), 77.0122, -5.9783], [tensor(1), 167.7663, 27.1768], [tensor(0), -87.6498, -47.1236], [tensor(0), 9.7972, -30.5634], [tensor(1), -8.1055, -6.2944], [tensor(0), 137.8257, -51.7622], [tensor(0), 166.4597, 77.1425], [tensor(1), -167.6241, -46.2369], [tensor(1), -119.6258, 1.9414], [tensor(1), -129.7631, -39.8371], [tensor(0), -31.9545, 55.625], [tensor(1), -133.0883, 30.1086], [tensor(1), -28.8057, 45.1618], [tensor(1), 158.5771, 11.4037], [tensor(1), -0.8784, 82.2484], [tensor(1), -147.2889, -4.5034], [tensor(1), -144.0666, -60.1921], [tensor(1), 60.9517, -31.8916], [tensor(1), -0.5268, -6.7938], [tensor(1), -116.6699, 44.3931], [tensor(0), 163.688, -50.7591], [tensor(1), 0.8555, -1.4644], [tensor(1), -171.6849, -48.3466], [tensor(1), -148.4469, -43.3134], [tensor(1), -19.4728, -43.82], [tensor(1), 134.3722, 17.1397], [tensor(0), -132.4263, 50.1253], [tensor(1), -11.9927, 55.8058], [tensor(1), -169.4344, -51.9845], [tensor(1), -33.31162221, 56.66363861], [tensor(1), 155.9111, -46.2851], [tensor(0), -156.2824, -40.569], [tensor(1), -32.772, -43.1665], [tensor(1), 179.155, -6.3808]]\n"
          ]
        }
      ],
      "source": [
        "prediction_array = [[]]\n",
        "i = 0\n",
        "\n",
        "#temp_df is what we use later in order to train our decision tree\n",
        "#used df_testing which contains data associated with images tested in AlexNet\n",
        "#also used the true classification labels in temp_df\n",
        "temp_df = df_testing[[\"latitude of box top\", \"longitude of box right side\", \"How confident are you that this is actually a polar low [1 for low, 2 for high, 0 for definitely not a polar low]\"]]\n",
        "list_long = list(temp_df[\"longitude of box right side\"])\n",
        "list_lat = list(temp_df[\"latitude of box top\"])\n",
        "#turns all the 2's into 1's so it is either 0 or 1, this is because polar lows are classified as both 2 and 1.\n",
        "#later, we can just use 0 and 1. using 0, 1, and 2, makes things redundant and matches up with the models classification labels. \n",
        "list_class = np.array(list(temp_df['How confident are you that this is actually a polar low [1 for low, 2 for high, 0 for definitely not a polar low]']))\n",
        "list_class = np.where(list_class == 2, 1, list_class)\n",
        "\n",
        "#master is an array that will be passed into the decision tree containing the AlexNet predictions, \n",
        "#latitude data, and longitude data. \n",
        "master = []\n",
        "#for all the images in all the lists: long, lat, and prediction, makes it into 1 still\n",
        "for i in range(len(test_preds)):\n",
        "  master.append([test_preds[i], float(list_long[i]), float(list_lat[i])])\n",
        "print(master)"
      ]
    },
    {
      "cell_type": "code",
      "execution_count": 93,
      "metadata": {
        "id": "kBVlh6jhnp8u",
        "colab": {
          "base_uri": "https://localhost:8080/",
          "height": 422
        },
        "outputId": "5fb68479-d967-4e3c-ddd7-16f182445805"
      },
      "outputs": [
        {
          "output_type": "display_data",
          "data": {
            "text/plain": [
              "<Figure size 500x500 with 1 Axes>"
            ],
            "image/png": "[encoded data removed]"
          },
          "metadata": {}
        }
      ],
      "source": [
        "from sklearn.tree import DecisionTreeClassifier\n",
        "from sklearn import tree\n",
        "import matplotlib.pyplot as plt  # Matplotlib will allow us to make visuals of our data and display images\n",
        "\n",
        "#creates a tree of depth 2, if we have too many depths, it overfits (meaning it \n",
        "#trains so well that it only does well on the actual training set) \n",
        "#generalization: applying trained model to test data\n",
        "# the tree is a decision maker, it goes down a path to determine the decision. \n",
        "clf = DecisionTreeClassifier(max_depth=3)\n",
        "clf.fit(master, test_truth) # fitting tree with AlexNet predictions and truth labels\n",
        "fig = plt.figure(figsize=(5,5))\n",
        "_ = tree.plot_tree(clf, feature_names=['AlexNet prediction', 'longitude', 'latitude'], class_names=['PL', 'NPL'], filled=True)"
      ]
    },
    {
      "cell_type": "code",
      "execution_count": 94,
      "metadata": {
        "id": "1hqUjx7_UUoM"
      },
      "outputs": [],
      "source": [
        "# test set process\n",
        "# for a test set, we used the 2022 data as the training data\n",
        "# we made a confusion matrix\n",
        "temp_df = df_testing[[\"latitude of box top\", \"longitude of box right side\", \"How confident are you that this is actually a polar low [1 for low, 2 for high, 0 for definitely not a polar low]\"]]\n",
        "list_long = list(temp_df[\"longitude of box right side\"])\n",
        "list_lat = list(temp_df[\"latitude of box top\"])\n",
        "list_class = np.array(list(temp_df['How confident are you that this is actually a polar low [1 for low, 2 for high, 0 for definitely not a polar low]']))\n",
        "list_class = np.where(list_class == 2, 1, list_class)\n",
        "test_Y = list(list_class.astype(int))\n",
        "\n",
        "test_X = []\n",
        "i = 0\n",
        "for i in range(len(list_long)):\n",
        "  tmp_lst = [int(list_class[i]), float(list_long[i]), float(list_lat[i])]\n",
        "  test_X.append(tmp_lst)\n",
        "\n",
        "pr = clf.predict(test_X)\n",
        "pr = pr.tolist()"
      ]
    },
    {
      "cell_type": "markdown",
      "metadata": {
        "id": "aSaXHutTf7BG"
      },
      "source": [
        "A confusion matrix is created to determine the accuracy of the AlexNet model including the decision tree. The Confusion matrix displays the number of correctly and incorrectly classified polar lows images and the number of correctly and incorrectly classified non-polar lows images. From the confusion matrix, it can be concluded that the accuracy of the model is 93.5%."
      ]
    },
    {
      "cell_type": "code",
      "execution_count": 95,
      "metadata": {
        "id": "9ZLLbkEnUGnV",
        "colab": {
          "base_uri": "https://localhost:8080/",
          "height": 501
        },
        "outputId": "37406968-c513-4b8f-a5b5-b16232a185a5"
      },
      "outputs": [
        {
          "output_type": "stream",
          "name": "stdout",
          "text": [
            "The accuracy score of the model is 0.9166666666666666\n",
            "The precision score for predicting polar lows is 0.9047619047619048\n",
            "The precision score for predicting non-polar lows is 0.9222222222222223\n"
          ]
        },
        {
          "output_type": "display_data",
          "data": {
            "text/plain": [
              "<Figure size 640x480 with 2 Axes>"
            ],
            "image/png": "[encoded data removed]"
          },
          "metadata": {}
        }
      ],
      "source": [
        "from sklearn.metrics import confusion_matrix, ConfusionMatrixDisplay, accuracy_score, precision_score\n",
        "#AlexNet results. \n",
        "cm = confusion_matrix(test_Y, pr, labels=[0, 1])\n",
        "\n",
        "#Accuracy Score\n",
        "y_pred = pr\n",
        "\n",
        "accuracy = accuracy_score(test_Y,pr)\n",
        "\n",
        "print(\"The accuracy score of the model is \" + str(accuracy))\n",
        "\n",
        "#Precision Score\n",
        "precision = precision_score(test_Y, pr, average=None)\n",
        "\n",
        "print(\"The precision score for predicting polar lows is \" + str(precision[0]))\n",
        "print(\"The precision score for predicting non-polar lows is \" + str(precision[1]))\n",
        "\n",
        "#Displaying the Confusion Matrix\n",
        "## Used defined labels from labels.txt in the converted_keras folder in the drive\n",
        "disp = ConfusionMatrixDisplay(confusion_matrix=cm, display_labels=['Non-Polar Lows', 'Polar Lows'])\n",
        "disp.plot()\n",
        "plt.show()"
      ]
    },
    {
      "cell_type": "markdown",
      "metadata": {
        "id": "vT4EZfqmCd2s"
      },
      "source": [
        "#Final Results and Conclusions"
      ]
    },
    {
      "cell_type": "markdown",
      "metadata": {
        "id": "QqTr-hnliRPX"
      },
      "source": [
        "Our team consisting of Ryan, Riya, Katie, and Shraddha implemented the AlexNet CNN model and re-trained it with 5 epochs and a learning rate of 0.001. The raw predictions from this model were fed into the decision tree that was created in Spring 2022. The accuracy of Alexnet alone improved the classification of polar lows from the teachable machine from 73% to around **81%**. When implementing the decision tree, the model further improved to **100%**. We were a bit skeptical that the final result was 100%. This overestimated accuracy may have been due to a low amount of testing data - we only used 139 images to feed into the decision tree.  \n",
        "\n",
        "After looking at the training and testing split data, we found a few images that were mislabeled in the data frame, duplicates, or in the wrong folder. This messed up the 80-20 training testing split for both the non-polar low and polar low images. Additionally, some of the images manually classified as polar lows were incorrectly classified because the latitudes of those images did not fall in the regions where polar lows occur.\n",
        "\n",
        "For my hack, I cleaned up the dataset by removing any images classified as Polar Low images that were in the incorrect latitude range and added some more images to the non-polar low image dataset. Additionally, for AlexNet, I changed the learning rate to 0.1 and number of epochs to 7 because this combination of parameters led to an optimally low loss and high accuracy. When using AlexNet alone on the dataset, the overall accuracy of the model is **84.3%**. This is an improvement from the previous version of this research, likely because of the larger dataset. For the decision tree, I changed the depth of the tree from 2 to 3 to avoid underfitting. The resulting model has a **91.67%** accuracy overall."
      ]
    }
  ]
}